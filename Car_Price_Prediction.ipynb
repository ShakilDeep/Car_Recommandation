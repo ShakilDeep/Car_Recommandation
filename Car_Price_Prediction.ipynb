{
 "cells": [
  {
   "cell_type": "markdown",
   "source": [
    "# Car Price Prediction\n",
    "## Data Cleaning\n",
    "### By : Shakil Uddin (KillerCoder)"
   ],
   "metadata": {
    "collapsed": false,
    "pycharm": {
     "name": "#%% md\n"
    }
   }
  },
  {
   "cell_type": "code",
   "execution_count": 1,
   "outputs": [],
   "source": [
    "import pandas as pd\n",
    "import numpy as np\n",
    "import matplotlib.pyplot as plt"
   ],
   "metadata": {
    "collapsed": false,
    "pycharm": {
     "name": "#%%\n"
    }
   }
  },
  {
   "cell_type": "code",
   "execution_count": 2,
   "outputs": [],
   "source": [
    "car_raw = pd.read_csv('Data/car.csv')"
   ],
   "metadata": {
    "collapsed": false,
    "pycharm": {
     "name": "#%%\n"
    }
   }
  },
  {
   "cell_type": "code",
   "execution_count": 3,
   "outputs": [
    {
     "data": {
      "text/plain": "                                     name   company  year          Price  \\\n0    Hyundai Santro Xing XO eRLX Euro III   Hyundai  2007         80,000   \n1                 Mahindra Jeep CL550 MDI  Mahindra  2006       4,25,000   \n2              Maruti Suzuki Alto 800 Vxi    Maruti  2018  Ask For Price   \n3  Hyundai Grand i10 Magna 1.2 Kappa VTVT   Hyundai  2014       3,25,000   \n4        Ford EcoSport Titanium 1.5L TDCi      Ford  2014       5,75,000   \n\n   kms_driven fuel_type  \n0  45,000 kms    Petrol  \n1      40 kms    Diesel  \n2  22,000 kms    Petrol  \n3  28,000 kms    Petrol  \n4  36,000 kms    Diesel  ",
      "text/html": "<div>\n<style scoped>\n    .dataframe tbody tr th:only-of-type {\n        vertical-align: middle;\n    }\n\n    .dataframe tbody tr th {\n        vertical-align: top;\n    }\n\n    .dataframe thead th {\n        text-align: right;\n    }\n</style>\n<table border=\"1\" class=\"dataframe\">\n  <thead>\n    <tr style=\"text-align: right;\">\n      <th></th>\n      <th>name</th>\n      <th>company</th>\n      <th>year</th>\n      <th>Price</th>\n      <th>kms_driven</th>\n      <th>fuel_type</th>\n    </tr>\n  </thead>\n  <tbody>\n    <tr>\n      <th>0</th>\n      <td>Hyundai Santro Xing XO eRLX Euro III</td>\n      <td>Hyundai</td>\n      <td>2007</td>\n      <td>80,000</td>\n      <td>45,000 kms</td>\n      <td>Petrol</td>\n    </tr>\n    <tr>\n      <th>1</th>\n      <td>Mahindra Jeep CL550 MDI</td>\n      <td>Mahindra</td>\n      <td>2006</td>\n      <td>4,25,000</td>\n      <td>40 kms</td>\n      <td>Diesel</td>\n    </tr>\n    <tr>\n      <th>2</th>\n      <td>Maruti Suzuki Alto 800 Vxi</td>\n      <td>Maruti</td>\n      <td>2018</td>\n      <td>Ask For Price</td>\n      <td>22,000 kms</td>\n      <td>Petrol</td>\n    </tr>\n    <tr>\n      <th>3</th>\n      <td>Hyundai Grand i10 Magna 1.2 Kappa VTVT</td>\n      <td>Hyundai</td>\n      <td>2014</td>\n      <td>3,25,000</td>\n      <td>28,000 kms</td>\n      <td>Petrol</td>\n    </tr>\n    <tr>\n      <th>4</th>\n      <td>Ford EcoSport Titanium 1.5L TDCi</td>\n      <td>Ford</td>\n      <td>2014</td>\n      <td>5,75,000</td>\n      <td>36,000 kms</td>\n      <td>Diesel</td>\n    </tr>\n  </tbody>\n</table>\n</div>"
     },
     "execution_count": 3,
     "metadata": {},
     "output_type": "execute_result"
    }
   ],
   "source": [
    "car_raw.head()"
   ],
   "metadata": {
    "collapsed": false,
    "pycharm": {
     "name": "#%%\n"
    }
   }
  },
  {
   "cell_type": "code",
   "execution_count": 4,
   "outputs": [
    {
     "data": {
      "text/plain": "(892, 6)"
     },
     "execution_count": 4,
     "metadata": {},
     "output_type": "execute_result"
    }
   ],
   "source": [
    "car_raw.shape"
   ],
   "metadata": {
    "collapsed": false,
    "pycharm": {
     "name": "#%%\n"
    }
   }
  },
  {
   "cell_type": "code",
   "execution_count": 5,
   "outputs": [
    {
     "name": "stdout",
     "output_type": "stream",
     "text": [
      "<class 'pandas.core.frame.DataFrame'>\n",
      "RangeIndex: 892 entries, 0 to 891\n",
      "Data columns (total 6 columns):\n",
      " #   Column      Non-Null Count  Dtype \n",
      "---  ------      --------------  ----- \n",
      " 0   name        892 non-null    object\n",
      " 1   company     892 non-null    object\n",
      " 2   year        892 non-null    object\n",
      " 3   Price       892 non-null    object\n",
      " 4   kms_driven  840 non-null    object\n",
      " 5   fuel_type   837 non-null    object\n",
      "dtypes: object(6)\n",
      "memory usage: 41.9+ KB\n"
     ]
    }
   ],
   "source": [
    "car_raw.info()"
   ],
   "metadata": {
    "collapsed": false,
    "pycharm": {
     "name": "#%%\n"
    }
   }
  },
  {
   "cell_type": "markdown",
   "source": [
    "## Checking Missing Values in the Dataset and Handling Them"
   ],
   "metadata": {
    "collapsed": false,
    "pycharm": {
     "name": "#%% md\n"
    }
   }
  },
  {
   "cell_type": "code",
   "execution_count": 6,
   "outputs": [
    {
     "data": {
      "text/plain": "array(['Hyundai', 'Mahindra', 'Maruti', 'Ford', 'Skoda', 'Audi', 'Toyota',\n       'Renault', 'Honda', 'Datsun', 'Mitsubishi', 'Tata', 'Volkswagen',\n       'I', 'Chevrolet', 'Mini', 'BMW', 'Nissan', 'Hindustan', 'Fiat',\n       'Commercial', 'MARUTI', 'Force', 'Mercedes', 'Land', 'Yamaha',\n       'selling', 'URJENT', 'Swift', 'Used', 'Jaguar', 'Jeep', 'tata',\n       'Sale', 'very', 'Volvo', 'i', '2012', 'Well', 'all', '7', '9',\n       'scratch', 'urgent', 'sell', 'TATA', 'Any', 'Tara'], dtype=object)"
     },
     "execution_count": 6,
     "metadata": {},
     "output_type": "execute_result"
    }
   ],
   "source": [
    "car_raw['company'].unique()"
   ],
   "metadata": {
    "collapsed": false,
    "pycharm": {
     "name": "#%%\n"
    }
   }
  },
  {
   "cell_type": "code",
   "execution_count": 7,
   "outputs": [
    {
     "data": {
      "text/plain": "array(['2007', '2006', '2018', '2014', '2015', '2012', '2013', '2016',\n       '2010', '2017', '2008', '2011', '2019', '2009', '2005', '2000',\n       '...', '150k', 'TOUR', '2003', 'r 15', '2004', 'Zest', '/-Rs',\n       'sale', '1995', 'ara)', '2002', 'SELL', '2001', 'tion', 'odel',\n       '2 bs', 'arry', 'Eon', 'o...', 'ture', 'emi', 'car', 'able', 'no.',\n       'd...', 'SALE', 'digo', 'sell', 'd Ex', 'n...', 'e...', 'D...',\n       ', Ac', 'go .', 'k...', 'o c4', 'zire', 'cent', 'Sumo', 'cab',\n       't xe', 'EV2', 'r...', 'zest'], dtype=object)"
     },
     "execution_count": 7,
     "metadata": {},
     "output_type": "execute_result"
    }
   ],
   "source": [
    "car_raw['year'].unique()"
   ],
   "metadata": {
    "collapsed": false,
    "pycharm": {
     "name": "#%%\n"
    }
   }
  },
  {
   "cell_type": "code",
   "execution_count": 8,
   "outputs": [
    {
     "data": {
      "text/plain": "array(['80,000', '4,25,000', 'Ask For Price', '3,25,000', '5,75,000',\n       '1,75,000', '1,90,000', '8,30,000', '2,50,000', '1,82,000',\n       '3,15,000', '4,15,000', '3,20,000', '10,00,000', '5,00,000',\n       '3,50,000', '1,60,000', '3,10,000', '75,000', '1,00,000',\n       '2,90,000', '95,000', '1,80,000', '3,85,000', '1,05,000',\n       '6,50,000', '6,89,999', '4,48,000', '5,49,000', '5,01,000',\n       '4,89,999', '2,80,000', '3,49,999', '2,84,999', '3,45,000',\n       '4,99,999', '2,35,000', '2,49,999', '14,75,000', '3,95,000',\n       '2,20,000', '1,70,000', '85,000', '2,00,000', '5,70,000',\n       '1,10,000', '4,48,999', '18,91,111', '1,59,500', '3,44,999',\n       '4,49,999', '8,65,000', '6,99,000', '3,75,000', '2,24,999',\n       '12,00,000', '1,95,000', '3,51,000', '2,40,000', '90,000',\n       '1,55,000', '6,00,000', '1,89,500', '2,10,000', '3,90,000',\n       '1,35,000', '16,00,000', '7,01,000', '2,65,000', '5,25,000',\n       '3,72,000', '6,35,000', '5,50,000', '4,85,000', '3,29,500',\n       '2,51,111', '5,69,999', '69,999', '2,99,999', '3,99,999',\n       '4,50,000', '2,70,000', '1,58,400', '1,79,000', '1,25,000',\n       '2,99,000', '1,50,000', '2,75,000', '2,85,000', '3,40,000',\n       '70,000', '2,89,999', '8,49,999', '7,49,999', '2,74,999',\n       '9,84,999', '5,99,999', '2,44,999', '4,74,999', '2,45,000',\n       '1,69,500', '3,70,000', '1,68,000', '1,45,000', '98,500',\n       '2,09,000', '1,85,000', '9,00,000', '6,99,999', '1,99,999',\n       '5,44,999', '1,99,000', '5,40,000', '49,000', '7,00,000', '55,000',\n       '8,95,000', '3,55,000', '5,65,000', '3,65,000', '40,000',\n       '4,00,000', '3,30,000', '5,80,000', '3,79,000', '2,19,000',\n       '5,19,000', '7,30,000', '20,00,000', '21,00,000', '14,00,000',\n       '3,11,000', '8,55,000', '5,35,000', '1,78,000', '3,00,000',\n       '2,55,000', '5,49,999', '3,80,000', '57,000', '4,10,000',\n       '2,25,000', '1,20,000', '59,000', '5,99,000', '6,75,000', '72,500',\n       '6,10,000', '2,30,000', '5,20,000', '5,24,999', '4,24,999',\n       '6,44,999', '5,84,999', '7,99,999', '4,44,999', '6,49,999',\n       '9,44,999', '5,74,999', '3,74,999', '1,30,000', '4,01,000',\n       '13,50,000', '1,74,999', '2,39,999', '99,999', '3,24,999',\n       '10,74,999', '11,30,000', '1,49,000', '7,70,000', '30,000',\n       '3,35,000', '3,99,000', '65,000', '1,69,999', '1,65,000',\n       '5,60,000', '9,50,000', '7,15,000', '45,000', '9,40,000',\n       '1,55,555', '15,00,000', '4,95,000', '8,00,000', '12,99,000',\n       '5,30,000', '14,99,000', '32,000', '4,05,000', '7,60,000',\n       '7,50,000', '4,19,000', '1,40,000', '15,40,000', '1,23,000',\n       '4,98,000', '4,80,000', '4,88,000', '15,25,000', '5,48,900',\n       '7,25,000', '99,000', '52,000', '28,00,000', '4,99,000',\n       '3,81,000', '2,78,000', '6,90,000', '2,60,000', '90,001',\n       '1,15,000', '15,99,000', '1,59,000', '51,999', '2,15,000',\n       '35,000', '11,50,000', '2,69,000', '60,000', '4,30,000',\n       '85,00,003', '4,01,919', '4,90,000', '4,24,000', '2,05,000',\n       '5,49,900', '3,71,500', '4,35,000', '1,89,700', '3,89,700',\n       '3,60,000', '2,95,000', '1,14,990', '10,65,000', '4,70,000',\n       '48,000', '1,88,000', '4,65,000', '1,79,999', '21,90,000',\n       '23,90,000', '10,75,000', '4,75,000', '10,25,000', '6,15,000',\n       '19,00,000', '14,90,000', '15,10,000', '18,50,000', '7,90,000',\n       '17,25,000', '12,25,000', '68,000', '9,70,000', '31,00,000',\n       '8,99,000', '88,000', '53,000', '5,68,500', '71,000', '5,90,000',\n       '7,95,000', '42,000', '1,89,000', '1,62,000', '35,999',\n       '29,00,000', '39,999', '50,500', '5,10,000', '8,60,000',\n       '5,00,001'], dtype=object)"
     },
     "execution_count": 8,
     "metadata": {},
     "output_type": "execute_result"
    }
   ],
   "source": [
    "car_raw['Price'].unique()"
   ],
   "metadata": {
    "collapsed": false,
    "pycharm": {
     "name": "#%%\n"
    }
   }
  },
  {
   "cell_type": "code",
   "execution_count": 9,
   "outputs": [
    {
     "data": {
      "text/plain": "array(['45,000 kms', '40 kms', '22,000 kms', '28,000 kms', '36,000 kms',\n       '59,000 kms', '41,000 kms', '25,000 kms', '24,530 kms',\n       '60,000 kms', '30,000 kms', '32,000 kms', '48,660 kms',\n       '4,000 kms', '16,934 kms', '43,000 kms', '35,550 kms',\n       '39,522 kms', '39,000 kms', '55,000 kms', '72,000 kms',\n       '15,975 kms', '70,000 kms', '23,452 kms', '35,522 kms',\n       '48,508 kms', '15,487 kms', '82,000 kms', '20,000 kms',\n       '68,000 kms', '38,000 kms', '27,000 kms', '33,000 kms',\n       '46,000 kms', '16,000 kms', '47,000 kms', '35,000 kms',\n       '30,874 kms', '15,000 kms', '29,685 kms', '1,30,000 kms',\n       '19,000 kms', nan, '54,000 kms', '13,000 kms', '38,200 kms',\n       '50,000 kms', '13,500 kms', '3,600 kms', '45,863 kms',\n       '60,500 kms', '12,500 kms', '18,000 kms', '13,349 kms',\n       '29,000 kms', '44,000 kms', '42,000 kms', '14,000 kms',\n       '49,000 kms', '36,200 kms', '51,000 kms', '1,04,000 kms',\n       '33,333 kms', '33,600 kms', '5,600 kms', '7,500 kms', '26,000 kms',\n       '24,330 kms', '65,480 kms', '28,028 kms', '2,00,000 kms',\n       '99,000 kms', '2,800 kms', '21,000 kms', '11,000 kms',\n       '66,000 kms', '3,000 kms', '7,000 kms', '38,500 kms', '37,200 kms',\n       '43,200 kms', '24,800 kms', '45,872 kms', '40,000 kms',\n       '11,400 kms', '97,200 kms', '52,000 kms', '31,000 kms',\n       '1,75,430 kms', '37,000 kms', '65,000 kms', '3,350 kms',\n       '75,000 kms', '62,000 kms', '73,000 kms', '2,200 kms',\n       '54,870 kms', '34,580 kms', '97,000 kms', '60 kms', '80,200 kms',\n       '3,200 kms', '0,000 kms', '5,000 kms', '588 kms', '71,200 kms',\n       '1,75,400 kms', '9,300 kms', '56,758 kms', '10,000 kms',\n       '56,450 kms', '56,000 kms', '32,700 kms', '9,000 kms', '73 kms',\n       '1,60,000 kms', '84,000 kms', '58,559 kms', '57,000 kms',\n       '1,70,000 kms', '80,000 kms', '6,821 kms', '23,000 kms',\n       '34,000 kms', '1,800 kms', '4,00,000 kms', '48,000 kms',\n       '90,000 kms', '12,000 kms', '69,900 kms', '1,66,000 kms',\n       '122 kms', '0 kms', '24,000 kms', '36,469 kms', '7,800 kms',\n       '24,695 kms', '15,141 kms', '59,910 kms', '1,00,000 kms',\n       '4,500 kms', '1,29,000 kms', '300 kms', '1,31,000 kms',\n       '1,11,111 kms', '59,466 kms', '25,500 kms', '44,005 kms',\n       '2,110 kms', '43,222 kms', '1,00,200 kms', '65 kms',\n       '1,40,000 kms', '1,03,553 kms', '58,000 kms', '1,20,000 kms',\n       '49,800 kms', '100 kms', '81,876 kms', '6,020 kms', '55,700 kms',\n       '18,500 kms', '1,80,000 kms', '53,000 kms', '35,500 kms',\n       '22,134 kms', '1,000 kms', '8,500 kms', '87,000 kms', '6,000 kms',\n       '15,574 kms', '8,000 kms', '55,800 kms', '56,400 kms',\n       '72,160 kms', '11,500 kms', '1,33,000 kms', '2,000 kms',\n       '88,000 kms', '65,422 kms', '1,17,000 kms', '1,50,000 kms',\n       '10,750 kms', '6,800 kms', '5 kms', '9,800 kms', '57,923 kms',\n       '30,201 kms', '6,200 kms', '37,518 kms', '24,652 kms', '383 kms',\n       '95,000 kms', '3,528 kms', '52,500 kms', '47,900 kms',\n       '52,800 kms', '1,95,000 kms', '48,008 kms', '48,247 kms',\n       '9,400 kms', '64,000 kms', '2,137 kms', '10,544 kms', '49,500 kms',\n       '1,47,000 kms', '90,001 kms', '48,006 kms', '74,000 kms',\n       '85,000 kms', '29,500 kms', '39,700 kms', '67,000 kms',\n       '19,336 kms', '60,105 kms', '45,933 kms', '1,02,563 kms',\n       '28,600 kms', '41,800 kms', '1,16,000 kms', '42,590 kms',\n       '7,400 kms', '54,500 kms', '76,000 kms', '00 kms', '11,523 kms',\n       '38,600 kms', '95,500 kms', '37,458 kms', '85,960 kms',\n       '12,516 kms', '30,600 kms', '2,550 kms', '62,500 kms',\n       '69,000 kms', '28,400 kms', '68,485 kms', '3,500 kms',\n       '85,455 kms', '63,000 kms', '1,600 kms', '77,000 kms',\n       '26,500 kms', '2,875 kms', '13,900 kms', '1,500 kms', '2,450 kms',\n       '1,625 kms', '33,400 kms', '60,123 kms', '38,900 kms',\n       '1,37,495 kms', '91,200 kms', '1,46,000 kms', '1,00,800 kms',\n       '2,100 kms', '2,500 kms', '1,32,000 kms', 'Petrol'], dtype=object)"
     },
     "execution_count": 9,
     "metadata": {},
     "output_type": "execute_result"
    }
   ],
   "source": [
    "car_raw['kms_driven'].unique()"
   ],
   "metadata": {
    "collapsed": false,
    "pycharm": {
     "name": "#%%\n"
    }
   }
  },
  {
   "cell_type": "code",
   "execution_count": 10,
   "outputs": [
    {
     "data": {
      "text/plain": "array(['Petrol', 'Diesel', nan, 'LPG'], dtype=object)"
     },
     "execution_count": 10,
     "metadata": {},
     "output_type": "execute_result"
    }
   ],
   "source": [
    "# Checking 'fuel_type' column for unique values\n",
    "car_raw['fuel_type'].unique()"
   ],
   "metadata": {
    "collapsed": false,
    "pycharm": {
     "name": "#%%\n"
    }
   }
  },
  {
   "cell_type": "code",
   "execution_count": 11,
   "outputs": [
    {
     "data": {
      "text/plain": "array(['Hyundai Santro Xing XO eRLX Euro III', 'Mahindra Jeep CL550 MDI',\n       'Maruti Suzuki Alto 800 Vxi',\n       'Hyundai Grand i10 Magna 1.2 Kappa VTVT',\n       'Ford EcoSport Titanium 1.5L TDCi', 'Ford Figo', 'Hyundai Eon',\n       'Ford EcoSport Ambiente 1.5L TDCi',\n       'Maruti Suzuki Alto K10 VXi AMT', 'Skoda Fabia Classic 1.2 MPI',\n       'Maruti Suzuki Stingray VXi', 'Hyundai Elite i20 Magna 1.2',\n       'Mahindra Scorpio SLE BS IV', 'Audi A8', 'Audi Q7',\n       'Mahindra Scorpio S10', 'Maruti Suzuki Alto 800',\n       'Hyundai i20 Sportz 1.2', 'Maruti Suzuki Alto 800 Lx',\n       'Maruti Suzuki Vitara Brezza ZDi', 'Maruti Suzuki Alto LX',\n       'Mahindra Bolero DI', 'Maruti Suzuki Swift Dzire ZDi',\n       'Mahindra Scorpio S10 4WD', 'Maruti Suzuki Swift Vdi BSIII',\n       'Maruti Suzuki Wagon R VXi BS III',\n       'Maruti Suzuki Wagon R VXi Minor',\n       'Toyota Innova 2.0 G 8 STR BS IV', 'Renault Lodgy 85 PS RXL',\n       'Skoda Yeti Ambition 2.0 TDI CR 4x2',\n       'Maruti Suzuki Baleno Delta 1.2',\n       'Renault Duster 110 PS RxZ Diesel Plus',\n       'Renault Duster 85 PS RxE Diesel', 'Honda City 1.5 S MT',\n       'Maruti Suzuki Dzire', 'Honda Amaze', 'Honda Amaze 1.5 SX i DTEC',\n       'Honda City', 'Datsun Redi GO S', 'Maruti Suzuki SX4 ZXI MT',\n       'Mitsubishi Pajero Sport Limited Edition',\n       'Maruti Suzuki Swift VXi 1.2 ABS BS IV', 'Honda City ZX CVT',\n       'Maruti Suzuki Wagon R LX BS IV', 'Tata Indigo eCS LS CR4 BS IV',\n       'Volkswagen Polo Highline Exquisite P',\n       'I want to sell my car Tata Zest', 'Chevrolet Spark LS 1.0',\n       'Renault Duster 110PS Diesel RxZ', 'Mini Cooper S 1.6',\n       'Skoda Fabia 1.2L Diesel Ambiente', 'Renault Duster',\n       'Mahindra Scorpio S4', 'Mahindra Scorpio VLX 2WD BS IV',\n       'Mahindra Quanto C8', 'Ford EcoSport', 'Honda Brio',\n       'Volkswagen Vento Highline Plus 1.5 Diesel AT',\n       'Hyundai i20 Magna', 'Toyota Corolla Altis Diesel D4DG',\n       'Hyundai Verna Transform SX VTVT',\n       'Toyota Corolla Altis Petrol Ltd', 'Honda City 1.5 EXi New',\n       'Skoda Fabia 1.2L Diesel Elegance', 'BMW 3 Series 320i',\n       'Maruti Suzuki A Star Lxi', 'Toyota Etios GD',\n       'Ford Figo Diesel EXI Option',\n       'Maruti Suzuki Swift Dzire VXi 1.2 BS IV',\n       'Chevrolet Beat LT Diesel', 'BMW 7 Series 740Li Sedan',\n       'Mahindra XUV500 W8 AWD 2013', 'Hyundai i10 Magna 1.2',\n       'Hyundai Verna Fluidic New', 'Maruti Suzuki Swift VXi 1.2 BS IV',\n       'Maruti Suzuki Ertiga ZXI Plus', 'Maruti Suzuki Ertiga Vxi',\n       'Maruti Suzuki Ertiga VDi', 'Maruti Suzuki Alto LXi BS III',\n       'Hyundai Grand i10 Asta 1.1 CRDi', 'Honda Amaze 1.2 S i VTEC',\n       'Hyundai i20 Asta 1.4 CRDI 6 Speed', 'Ford Figo Diesel EXI',\n       'Maruti Suzuki Eeco 5 STR WITH AC HTR', 'Maruti Suzuki Ertiga ZXi',\n       'Maruti Suzuki Esteem LXi BS III', 'Maruti Suzuki Ritz VXI',\n       'Maruti Suzuki Ritz LDi', 'Maruti Suzuki Dzire VDI',\n       'Toyota Etios Liva G', 'Hyundai i20 Sportz 1.4 CRDI',\n       'Chevrolet Spark', 'Nissan Micra XV', 'Maruti Suzuki Swift',\n       'Honda Amaze 1.5 S i DTEC', 'Chevrolet Beat', 'Toyota Corolla',\n       'Honda City 1.5 V MT', 'Ford EcoSport Trend 1.5L TDCi',\n       'Hyundai i20 Asta 1.2', 'Tata Indica V2 eLS',\n       'Maruti Suzuki Alto 800 Lxi', 'Hindustan Motors Ambassador',\n       'Toyota Corolla Altis 1.8 GL', 'Toyota Corolla Altis 1.8 J',\n       'Toyota Innova 2.5 GX BS IV 7 STR',\n       'Volkswagen Jetta Highline TDI AT',\n       'Volkswagen Polo Comfortline 1.2L P', 'Volkswagen Polo',\n       'Mahindra Scorpio', 'Nissan Sunny', 'Hyundai Elite i20',\n       'Renault Kwid', 'Mahindra Scorpio VLX Airbag',\n       'Chevrolet Spark LT 1.0', 'Datsun Redi GO T O',\n       'Maruti Suzuki Swift RS VDI', 'Fiat Punto Emotion 1.2',\n       'Hyundai i10 Sportz 1.2', 'Chevrolet Beat LT Opt Diesel',\n       'Chevrolet Beat LS Diesel', 'Tata Indigo CS',\n       'Maruti Suzuki Swift VDi', 'Hyundai Eon Era Plus',\n       'Mahindra XUV500', 'Ford Fiesta', 'Maruti Suzuki Wagon R',\n       'Hyundai i20', 'Tata Indigo eCS LX TDI BS III',\n       'Hyundai Fluidic Verna 1.6 CRDi SX',\n       'Commercial , DZire LDI, 2016, for sale', 'Fiat Petra ELX 1.2 PS',\n       'Hyundai Santro Xing XS', 'Maruti Suzuki Ciaz VXi Plus',\n       'Maruti Suzuki Zen VX', 'Hyundai Creta 1.6 SX Plus Petrol',\n       'Tata indigo ecs LX, 201', 'Mahindra Scorpio SLX',\n       'Toyota Innova 2.5 G BS III 8 STR',\n       'Maruti Suzuki Wagon R LXI BS IV', 'Tata Nano Cx BSIV',\n       'Maruti Suzuki Alto Std BS IV', 'Maruti Suzuki Wagon R LXi BS III',\n       'Maruti Suzuki Swift VXI BSIII',\n       'Tata Sumo Victa EX 10 by 7 Str BSIII', 'MARUTI SUZUKI DESI',\n       'Volkswagen Passat Diesel Comfortline AT',\n       'Renault Scala RxL Diesel Travelogue',\n       'Hyundai Grand i10 Sportz O 1.2 Kappa VTVT',\n       'Hyundai i20 Active 1.2 SX', 'Mahindra Xylo E4',\n       'Mahindra Jeep MM 550 XDB', 'Mahindra Bolero SLE BS IV',\n       'Force Motors Force One LX ABS 7 STR', 'Maruti Suzuki SX4',\n       'Toyota Etios', 'Honda City ZX VTEC',\n       'Maruti Suzuki Wagon R LX BS III', 'Honda City VX O MT Diesel',\n       'Mahindra Thar CRDe 4x4 AC',\n       'Audi A4 1.8 TFSI Multitronic Premium Plus',\n       'Mercedes Benz GLA Class 200 CDI Sport',\n       'Land Rover Freelander 2 SE', 'Renault Kwid RXT',\n       'Tata Aria Pleasure 4X2', 'Mercedes Benz B Class B180 Sports',\n       'Datsun GO T O', 'Honda Jazz VX MT',\n       'Hyundai i20 Active 1.4L SX O', 'Mini Cooper S',\n       'Maruti Suzuki Ciaz ZXI Plus', 'Chevrolet Tavera Neo',\n       'Hyundai Eon Sportz', 'Tata Sumo Gold Select Variant',\n       'Maruti Suzuki Wagon R 1.0', 'Maruti Suzuki Esteem VXi BS III',\n       'Chevrolet Enjoy 1.4 LS 8 STR', 'Maruti Suzuki Wagon R 1.0 VXi',\n       'Nissan Terrano XL D Plus', 'Renault Duster 85 PS RxL Diesel',\n       'Maruti Suzuki Dzire ZXI', 'Renault Kwid RXT Opt',\n       'Maruti Suzuki Maruti 800 Std', 'Renault Kwid 1.0 RXT AMT',\n       'Renault Scala RxL Diesel',\n       'Hyundai Grand i10 Asta 1.2 Kappa VTVT O',\n       'Chevrolet Beat LS Petrol', 'Hyundai Accent GLX', 'Yama',\n       'Maruti Suzuki Swift LDi', 'Mahindra TUV300 T4 Plus',\n       'Tata Indica V2 Xeta e GLE', 'Tata Indigo CS LS DiCOR',\n       'Mahindra Scorpio VLX Special Edition BS III',\n       'Tata Indica eV2 LS', 'Honda Accord',\n       'Ford EcoSport Titanium 1.5 TDCi', 'Maruti Suzuki Ertiga',\n       'Mahindra Scorpio 2.6 CRDe', 'Honda Mobilio',\n       'Toyota Corolla Altis', 'Skoda Laura', 'Hyundai Verna Fluidic',\n       'Maruti Suzuki Vitara Brezza', 'Tata Manza Aura Quadrajet',\n       'Chevrolet Sail UVA Petrol LT ABS',\n       'Hyundai Verna Fluidic 1.6 VTVT SX',\n       'Audi A4 2.0 TDI 177bhp Premium', 'Hyundai Elantra SX',\n       'Mahindra Scorpio VLX 4WD Airbag', 'Mahindra KUV100 K8 D 6 STR',\n       'Hyundai Grand i10', 'Hyundai i10', 'Hyundai i20 Active',\n       'Datsun Redi GO', 'Toyota Etios Liva', 'Hyundai Accent',\n       'Hyundai Verna', 'Toyota Fortuner', 'Hyundai i10 Sportz',\n       'Mahindra Bolero Power Plus SLE', 'selling car Ta',\n       'Honda City 1.5 V MT Exclusive', 'Chevrolet Spark LT 1.0 Airbag',\n       'Tata Indigo eCS VX CR4 BS IV', 'Tata Zest 90',\n       'Skoda Rapid Elegance 1.6 TDI CR MT', 'Tata Vista Quadrajet VX',\n       'Maruti Suzuki Alto K10 VXi AT', 'Maruti Suzuki Zen LXi BS III',\n       'Maruti Suzuki Swift Dzire Tour LDi', 'Honda City ZX EXi',\n       'Chevrolet Beat Diesel', 'Maruti Suzuki Swift Dzire car',\n       'Hyundai Verna 1.4 VTVT', 'Toyota Innova 2.5 E MS 7 STR BS IV',\n       'Maruti Suzuki Maruti 800 Std – Befo',\n       'Hyundai Elite i20 Asta 1.4 CRDI',\n       'Maruti Suzuki Swift Dzire Tour (Gat',\n       'Maruti Suzuki Versa DX2 8 SEATER BSIII',\n       'Tata Indigo LX TDI BS III',\n       'Volkswagen Vento Konekt Diesel Highline',\n       'Mercedes Benz C Class 200 CDI Classic', 'URJE',\n       'Hyundai Santro Xing GLS', 'Maruti Suzuki Omni Limited Edition',\n       'Hyundai Sonata Transform 2.4 GDi MT',\n       'Hyundai Elite i20 Sportz 1.2', 'Honda Jazz S MT',\n       'Hyundai Grand i10 Sportz 1.2 Kappa VTVT',\n       'Maruti Suzuki Zen LXi BSII',\n       'Mahindra Scorpio W Turbo 2.6DX 9 Seater',\n       'Swift Dzire Tour 27 Dec 2016 Regis', 'Maruti Suzuki Alto K10 VXi',\n       'Hyundai Grand i10 Asta 1.2 Kappa VTVT', 'Mahindra XUV500 W8',\n       'Hyundai i20 Magna O 1.2', 'Renault Duster 85 PS RxL Explore LE',\n       'Honda Brio V MT', 'Mahindra TUV300 T8',\n       'Nissan X Trail Select Variant', 'Ford Ikon 1.3 CLXi NXt Finesse',\n       'Toyota Fortuner 3.0 4x4 MT', 'Tata Manza ELAN Quadrajet',\n       'Tata zest x', 'Mahindra xyl',\n       'Mercedes Benz A Class A 180 Sport Petrol', 'Tata Indigo LS',\n       'Hyundai i20 Magna 1.2', 'Used Commercial Maruti Omn',\n       'Honda Amaze 1.5 E i DTEC', 'Hyundai Verna 1.6 EX VTVT',\n       'BMW 5 Series 520d Sedan', 'Skoda Superb 1.8 TFSI AT',\n       'Audi Q3 2.0 TDI quattro Premium', 'Mahindra Bolero DI BSII',\n       'Maruti Suzuki Zen Estilo LXI Green CNG',\n       'Ford Figo Duratorq Diesel Titanium 1.4',\n       'Maruti Suzuki Wagon R VXI BS IV', 'Mahindra Logan Diesel 1.5 DLS',\n       'Tata Nano GenX XMA', 'Honda City SV', 'Ford Figo Petrol LXI',\n       'Hyundai i10 Magna 1.2 Kappa2', 'Toyota Corolla H2',\n       'Maruti Suzuki Swift Dzire Tour VXi', 'Tata Indigo CS eLS BS IV',\n       'Hyundai Xcent Base 1.1 CRDi', 'Hyundai Accent Executive Edition',\n       'Tata Zest XE 75 PS Diesel', 'Maruti Suzuki Dzire LDI',\n       'Tata Sumo Gold LX BS IV', 'Toyota Corolla Altis GL Petrol',\n       'Maruti Suzuki Eeco 7 STR', 'Toyota Fortuner 3.0 4x2 MT',\n       'Mahindra XUV500 W6', 'Tata Tigor Revotron XZ',\n       'Maruti Suzuki 800', 'Honda Mobilio S i DTEC',\n       'Hyundai Verna 1.6 CRDI E', 'Maruti Suzuki Omni Select Variant',\n       'Tata Indica', 'Hyundai Santro Xing', 'Maruti Suzuki Zen Estilo',\n       'Honda Brio VX AT', 'Maruti Suzuki Wagon R Select Variant',\n       'Tata Nano Lx BSIV', 'Jaguar XE XE Portfolio',\n       'Hyundai Xcent S 1.2', 'Hyundai Eon Magna Plus',\n       'Maruti Suzuki Ritz GENUS VXI',\n       'Hyundai Grand i10 Magna AT 1.2 Kappa VTVT',\n       'Hyundai Eon D Lite Plus', 'Honda Amaze 1.2 VX i VTEC',\n       'Maruti Suzuki Estilo VXi ABS BS IV',\n       'Maruti Suzuki Vitara Brezza LDi O', 'Toyota Innova 2.0 V',\n       'Hyundai Creta 1.6 SX Plus Petrol AT', 'Mahindra Scorpio Vlx BSIV',\n       'Mitsubishi Lancer 1.8 LXi', 'Maruti Suzuki Maruti 800 AC',\n       'Maruti Suzuki Alto 800 LXI CNG O', 'Ford Fiesta SXi 1.6 ABS',\n       'Maruti Suzuki Ritz VDi', 'Maruti Suzuki Estilo LX BS IV',\n       'Audi A6 2.0 TDI Premium', 'Maruti Suzuki Alto',\n       'Maruti Suzuki Baleno Sigma 1.2', 'Hyundai Verna 1.6 SX VTVT AT',\n       'Maruti Suzuki Swift GLAM', 'Hyundai Getz Prime 1.3 GVS',\n       'Hyundai Santro', 'Hyundai Getz Prime 1.3 GLX',\n       'Chevrolet Beat PS Diesel', 'Ford EcoSport Trend 1.5 Ti VCT',\n       'Tata Indica V2 DLG', 'BMW X1 xDrive20d xLine',\n       'Honda City 1.5 V AT', 'Tata Nano', 'Chevrolet Cruze LTZ AT',\n       'Hyun', 'Maruti Suzuki Swift Dzire VDi', 'Mahindra XUV500 W10',\n       'Maruti Suzuki Alto K10 LXi CNG', 'Hyundai Accent GLE',\n       'Force Motors One SUV', 'Datsun Go Plus T O',\n       'Chevrolet Spark 1.0 LT', 'Toyota Etios Liva GD',\n       'Renault Duster 85PS Diesel RxL Optional with Nav',\n       'Chevrolet Enjoy', 'BMW 5 Series 530i', 'Chevrolet Cruze LTZ',\n       'Jeep Wrangler Unlimited 4x4 Diesel',\n       'Hyundai Verna VGT CRDi SX ABS', 'Maruti Suzuki Omni',\n       'Maruti Suzuki Celerio VDi', 'Tata Zest Quadrajet 1.3',\n       'Tata Indigo CS eLX BS IV', 'Hyundai i10 Era',\n       'Tata Indigo eCS LX CR4 BS IV', 'Tata Indigo Marina LS',\n       'Commercial Chevrolet Sail Hatchback ca', 'Hyundai Xcent SX 1.2',\n       'Tata Nano LX Special Edition', 'Commercial Car Ta',\n       'Renault Duster 110 PS RxZ Diesel',\n       'Maruti Suzuki Wagon R AX BSIV', 'Maruti Suzuki Alto K10 New',\n       'tata Indica', 'Mahindra Xylo E8', 'Tata Manza Aqua Quadrajet',\n       'Used bt new conditions ta', 'Renault Kwid 1.0', 'Sale tata',\n       'Tata Venture EX 8 STR', 'Maruti Suzuki Swift Dzire Tour LXi',\n       'Maruti Suzuki Alto LX BSII', 'Skoda Octavia Classic 1.9 TDI MT',\n       'Maruti Suzuki Omni LPG BS IV', 'Tata Sumo Gold EX BS IV',\n       'Tata indigo 2017 top model..', 'Hyundai Verna 1.6 CRDI SX',\n       'Mahindra Scorpio SLX 2.6 Turbo 8 Str', 'Ford Ikon 1.6 Nxt',\n       'Tata indigo', 'Toyota Innova 2.5 V 7 STR', 'Nissan Sunny XL',\n       'Maruti Suzuki Swift VDi BS IV',\n       'very good condition tata bolts are av', 'Toyota Innova 2.0 G4',\n       'Sale Hyundai xcent commerc', 'Maruti Suzuki Swift VDi ABS',\n       'Hyundai Elite i20 Asta 1.2', 'Volkswagen Polo Trendline 1.5L D',\n       'Toyota Etios Liva Diesel', 'Maruti Suzuki Ciaz ZXi Plus RS',\n       'Hyundai Elantra 1.8 S', 'Ford EcoSport Trend 1.5L Ti VCT',\n       'Jaguar XF 2.2 Diesel Luxury',\n       'Audi Q5 2.0 TDI quattro Premium Plus', 'BMW 3 Series 320d Sedan',\n       'Maruti Suzuki Swift ZXi 1.2 BS IV', 'BMW X1 sDrive20d',\n       'Maruti Suzuki S Cross Sigma 1.3', 'Maruti Suzuki Ertiga LDi',\n       'Volkswagen Vento Comfortline Petrol', 'Mahindra KUV100',\n       'Maruti Suzuki Swift Dzire Tour VDi', 'Mahindra Scorpio 2.6 SLX',\n       'Maruti Suzuki Omni 8 STR BS III',\n       'Volkswagen Jetta Comfortline 1.9 TDI AT', 'Volvo S80 Summum D4',\n       'Toyota Corolla Altis VL AT Petrol',\n       'Mitsubishi Pajero Sport 2.5 AT', 'Chevrolet Beat LT Petrol',\n       'BMW X1', 'Mercedes Benz C Class C 220 CDI Avantgarde',\n       'Volkswagen Vento Comfortline Diesel', 'Tata Indigo CS GLS',\n       'Ford Figo Petrol Titanium', 'Honda City ZX GXi',\n       'Maruti Suzuki Wagon R Duo Lxi', 'Maruti Suzuki Zen LX BSII',\n       'Renault Duster RxL Petrol', 'Maruti Suzuki Baleno Zeta 1.2',\n       'Honda WR V S MT Petrol', 'Renault Duster 110 PS RxL Diesel',\n       'Mahindra Scorpio LX BS III',\n       'Maruti Suzuki SX4 Celebration Diesel',\n       'Audi A3 Cabriolet 40 TFSI',\n       'I want to sell my commercial car due t',\n       'Hyundai Santro AE GLS Audio',\n       'i want sale my car.no emi....uber atta', 'Tata ZEST 6 month old',\n       'Mahindra Xylo D2 BS IV', 'Hyundai Getz GLE',\n       'Hyundai Creta 1.6 SX', 'Hyundai Santro Xing XL AT eRLX Euro III',\n       'Hyundai Santro Xing XL eRLX Euro III',\n       'Tata Indica V2 DLS BS III', 'Honda City 1.5 E MT',\n       'Nissan Micra XL', 'Honda City 1.5 S Inspire',\n       'Tata Indica eV2 eXeta eGLX', 'Maruti Suzuki Omni E 8 STR BS IV',\n       'MARUTI SUZUKI ERTIGA F', 'Hyundai Verna 1.6 CRDI SX Plus AT',\n       'Chevrolet Tavera LS B3 10 Seats BSII', 'Tata Tiago Revotron XM',\n       'Tata Tiago Revotorq XZ', 'Tata Nexon', 'Tata',\n       'Hindustan Motors Ambassador Classic Mark 4 – Befo',\n       'Ford Fusion 1.4 TDCi Diesel',\n       'Fiat Linea Emotion 1.4 L T Jet Petrol',\n       'Ford Ikon 1.3 Flair Josh 100', 'Tata Indica V2 LS',\n       'Mahindra Xylo D2', 'Hyundai Eon Magna',\n       'Tata Sumo Grande MKII GX', 'Volkswagen Polo Highline1.2L P',\n       'Tata Tiago Revotron XZ', 'Tata Indigo eCS',\n       '2012 Tata Sumo Gold f', 'Mahindra Xylo E8 BS IV',\n       'Well mentained Tata Sumo',\n       'all paper updated tata indica v2 and u',\n       'Maruti Ertiga showroom condition with',\n       '7 SEATER MAHINDRA BOLERO IN VERY GOOD', '9 SEATER MAHINDRA BOL',\n       'scratch less Tata I', 'Maruti Suzuki swift dzire for sale in',\n       'Commercial Chevrolet beat for sale in',\n       'urgent sell my Mahindra qu', 'Tata Sumo Gold FX BSIII',\n       'sell my car Maruti Suzuki Swif',\n       'Maruti Suzuki Swift Dzire good car fo', 'Hyunda',\n       'Commercial Maruti Suzuki Alto Lxi 800', 'urgent sale Ta',\n       'Maruti Suzuki Alto vxi t', 'tata', 'TATA INDI', 'Hyundai Creta',\n       'Tata Bolt XM Petrol', 'Hyundai Venue', 'Maruti Suzuki Ritz',\n       'Renault Lodgy', 'Hyundai i20 Asta',\n       'Maruti Suzuki Swift Select Variant', 'Tata Indica V2 DLX BS III',\n       'Mahindra Scorpio VLX 2.2 mHawk Airbag BSIV',\n       'Toyota Innova 2.5 E 8 STR', 'Mahindra KUV100 K8 6 STR',\n       'Datsun Go Plus', 'Ford Endeavor 4x4 Thunder Plus',\n       'Tata Indica V2', 'Hyundai Santro Xing GL',\n       'Toyota Innova 2.5 Z Diesel 7 Seater',\n       'Any type car avaiabel hare...comercica', 'Maruti Suzuki Alto AX',\n       'Mahindra Logan', 'Maruti Suzuki 800 Std BS III',\n       'Chevrolet Sail 1.2 LS',\n       'Volkswagen Vento Highline Plus 1.5 Diesel', 'Tata Manza',\n       'Toyota Innova 2.0 G1 Petrol 8seater', 'Toyota Etios G',\n       'Toyota Qualis', 'Mahindra Quanto C4', 'Maruti Suzuki Swift Dzire',\n       'Hyundai i20 Select Variant', 'Honda City VX Petrol',\n       'Hyundai Getz', 'Mercedes Benz C Class 200 K MT', 'Skoda Fabia',\n       'Maruti Suzuki Alto 800 Select Variant',\n       'Maruti Suzuki Ritz VXI ABS', 'tata zest 2017 f',\n       'Tata Indica V2 DLE BS III', 'Ta', 'Tata Zest XM Diesel',\n       'Honda Amaze 1.2 E i VTEC', 'Chevrolet Sail 1.2 LT ABS'],\n      dtype=object)"
     },
     "execution_count": 11,
     "metadata": {},
     "output_type": "execute_result"
    }
   ],
   "source": [
    "# Checking 'name' column for unique values\n",
    "car_raw['name'].unique()"
   ],
   "metadata": {
    "collapsed": false,
    "pycharm": {
     "name": "#%%\n"
    }
   }
  },
  {
   "cell_type": "markdown",
   "source": [
    "# Quality Check\n",
    "Certainly, let's revisit the steps to address these issues with the data:\n",
    "\n",
    "I. Inconsistent Names:\n",
    "\n",
    "Standardize names using text processing techniques like lemmatization, removing extra spaces, and consistent capitalization.\n",
    "II. Company Names:\n",
    "\n",
    "Separate company names from individual names into distinct columns.\n",
    "III. Spam-Like Names:\n",
    "\n",
    "Identify and filter out spam-like names based on keywords, such as \"showroom condition\" or \"well-maintained.\"\n",
    "IV. Company Data:\n",
    "\n",
    "Address cases where company names are not relevant, like 'Used' or 'URGENT.' Either remove these entries or categorize them differently.\n",
    "V. Year Data:\n",
    "\n",
    "Convert the 'year' column from object type to integer type by removing non-numeric characters. Handle non-year values by replacing them with a default or removing those entries.\n",
    "VI. Price Data:\n",
    "\n",
    "Remove entries with \"Ask for Price\" and then convert the 'Price' column from object type to integer type after removing commas.\n",
    "VII. Kilometers Driven (kms_driven) Data:\n",
    "\n",
    "Convert 'kms_driven' column to integer by removing \"kms\" suffix and non-numeric characters. Handle NaN values by imputing or removing rows.\n",
    "VIII. Fuel Type Data:\n",
    "\n",
    "Handle missing values in 'fuel_type' column by imputing based on the most common fuel type or using domain knowledge."
   ],
   "metadata": {
    "collapsed": false,
    "pycharm": {
     "name": "#%% md\n"
    }
   }
  },
  {
   "cell_type": "markdown",
   "source": [
    "## Cleaning the data"
   ],
   "metadata": {
    "collapsed": false,
    "pycharm": {
     "name": "#%% md\n"
    }
   }
  },
  {
   "cell_type": "code",
   "execution_count": 12,
   "outputs": [
    {
     "data": {
      "text/plain": "842"
     },
     "execution_count": 12,
     "metadata": {},
     "output_type": "execute_result"
    }
   ],
   "source": [
    "car_raw['year'].str.isnumeric().sum()"
   ],
   "metadata": {
    "collapsed": false,
    "pycharm": {
     "name": "#%%\n"
    }
   }
  },
  {
   "cell_type": "code",
   "execution_count": 13,
   "outputs": [],
   "source": [
    "car_raw = car_raw[car_raw['year'].str.isnumeric()]"
   ],
   "metadata": {
    "collapsed": false,
    "pycharm": {
     "name": "#%%\n"
    }
   }
  },
  {
   "cell_type": "code",
   "execution_count": 14,
   "outputs": [],
   "source": [
    "car_raw['year'] = car_raw['year'].astype(int)"
   ],
   "metadata": {
    "collapsed": false,
    "pycharm": {
     "name": "#%%\n"
    }
   }
  },
  {
   "cell_type": "code",
   "execution_count": 15,
   "outputs": [
    {
     "data": {
      "text/plain": "0"
     },
     "execution_count": 15,
     "metadata": {},
     "output_type": "execute_result"
    }
   ],
   "source": [
    "car_raw['Price'].str.isnumeric().sum()"
   ],
   "metadata": {
    "collapsed": false,
    "pycharm": {
     "name": "#%%\n"
    }
   }
  },
  {
   "cell_type": "code",
   "execution_count": 16,
   "outputs": [
    {
     "name": "stdout",
     "output_type": "stream",
     "text": [
      "<class 'pandas.core.frame.DataFrame'>\n",
      "Index: 842 entries, 0 to 891\n",
      "Data columns (total 6 columns):\n",
      " #   Column      Non-Null Count  Dtype \n",
      "---  ------      --------------  ----- \n",
      " 0   name        842 non-null    object\n",
      " 1   company     842 non-null    object\n",
      " 2   year        842 non-null    int32 \n",
      " 3   Price       842 non-null    object\n",
      " 4   kms_driven  840 non-null    object\n",
      " 5   fuel_type   837 non-null    object\n",
      "dtypes: int32(1), object(5)\n",
      "memory usage: 42.8+ KB\n"
     ]
    }
   ],
   "source": [
    "car_raw.info()"
   ],
   "metadata": {
    "collapsed": false,
    "pycharm": {
     "name": "#%%\n"
    }
   }
  },
  {
   "cell_type": "code",
   "execution_count": 17,
   "outputs": [],
   "source": [
    "car_raw.loc[car_raw['Price']=='Ask For Price', 'Price'] = np.nan"
   ],
   "metadata": {
    "collapsed": false,
    "pycharm": {
     "name": "#%%\n"
    }
   }
  },
  {
   "cell_type": "code",
   "execution_count": 18,
   "outputs": [
    {
     "data": {
      "text/plain": "0        80,000\n1      4,25,000\n2           NaN\n3      3,25,000\n4      5,75,000\n         ...   \n886    3,00,000\n888    2,60,000\n889    3,90,000\n890    1,80,000\n891    1,60,000\nName: Price, Length: 842, dtype: object"
     },
     "execution_count": 18,
     "metadata": {},
     "output_type": "execute_result"
    }
   ],
   "source": [
    "car_raw['Price']"
   ],
   "metadata": {
    "collapsed": false,
    "pycharm": {
     "name": "#%%\n"
    }
   }
  },
  {
   "cell_type": "code",
   "execution_count": 19,
   "outputs": [],
   "source": [
    "car_raw['Price'] = car_raw['Price'].str.replace(',','')"
   ],
   "metadata": {
    "collapsed": false,
    "pycharm": {
     "name": "#%%\n"
    }
   }
  },
  {
   "cell_type": "code",
   "execution_count": 20,
   "outputs": [],
   "source": [
    "# replace 'NaN' values with median\n",
    "car_raw['Price'] = car_raw['Price'].fillna(car_raw['Price'].median())"
   ],
   "metadata": {
    "collapsed": false,
    "pycharm": {
     "name": "#%%\n"
    }
   }
  },
  {
   "cell_type": "code",
   "execution_count": 21,
   "outputs": [],
   "source": [
    "car_raw['Price'] = car_raw['Price'].astype(int)"
   ],
   "metadata": {
    "collapsed": false,
    "pycharm": {
     "name": "#%%\n"
    }
   }
  },
  {
   "cell_type": "code",
   "execution_count": 22,
   "outputs": [],
   "source": [
    "car_raw['kms_driven'] = car_raw['kms_driven'].str.split(' ').str.get(0).str.replace(',','')"
   ],
   "metadata": {
    "collapsed": false,
    "pycharm": {
     "name": "#%%\n"
    }
   }
  },
  {
   "cell_type": "code",
   "execution_count": 23,
   "outputs": [],
   "source": [
    "car_raw['kms_driven'] = car_raw['kms_driven'].str.replace(',','')"
   ],
   "metadata": {
    "collapsed": false,
    "pycharm": {
     "name": "#%%\n"
    }
   }
  },
  {
   "cell_type": "code",
   "execution_count": 24,
   "outputs": [],
   "source": [
    "car_raw.loc[(car_raw['kms_driven']=='Petrol'),'kms_driven'] = np.nan"
   ],
   "metadata": {
    "collapsed": false,
    "pycharm": {
     "name": "#%%\n"
    }
   }
  },
  {
   "cell_type": "code",
   "execution_count": 25,
   "outputs": [],
   "source": [
    "car_raw['kms_driven'] = car_raw['kms_driven'].fillna(car_raw['kms_driven'].median())"
   ],
   "metadata": {
    "collapsed": false,
    "pycharm": {
     "name": "#%%\n"
    }
   }
  },
  {
   "cell_type": "code",
   "execution_count": 26,
   "outputs": [],
   "source": [
    "car_raw['kms_driven'] = car_raw['kms_driven'].astype(int)"
   ],
   "metadata": {
    "collapsed": false,
    "pycharm": {
     "name": "#%%\n"
    }
   }
  },
  {
   "cell_type": "code",
   "execution_count": 27,
   "outputs": [
    {
     "name": "stdout",
     "output_type": "stream",
     "text": [
      "<class 'pandas.core.frame.DataFrame'>\n",
      "Index: 842 entries, 0 to 891\n",
      "Data columns (total 6 columns):\n",
      " #   Column      Non-Null Count  Dtype \n",
      "---  ------      --------------  ----- \n",
      " 0   name        842 non-null    object\n",
      " 1   company     842 non-null    object\n",
      " 2   year        842 non-null    int32 \n",
      " 3   Price       842 non-null    int32 \n",
      " 4   kms_driven  842 non-null    int32 \n",
      " 5   fuel_type   837 non-null    object\n",
      "dtypes: int32(3), object(3)\n",
      "memory usage: 36.2+ KB\n"
     ]
    }
   ],
   "source": [
    "car_raw.info()"
   ],
   "metadata": {
    "collapsed": false,
    "pycharm": {
     "name": "#%%\n"
    }
   }
  },
  {
   "cell_type": "code",
   "execution_count": 28,
   "outputs": [],
   "source": [
    "car_raw['fuel_type'] = car_raw['fuel_type'].fillna(car_raw['fuel_type'].mode()[0])"
   ],
   "metadata": {
    "collapsed": false,
    "pycharm": {
     "name": "#%%\n"
    }
   }
  },
  {
   "cell_type": "code",
   "execution_count": 29,
   "outputs": [
    {
     "name": "stdout",
     "output_type": "stream",
     "text": [
      "<class 'pandas.core.frame.DataFrame'>\n",
      "Index: 842 entries, 0 to 891\n",
      "Data columns (total 6 columns):\n",
      " #   Column      Non-Null Count  Dtype \n",
      "---  ------      --------------  ----- \n",
      " 0   name        842 non-null    object\n",
      " 1   company     842 non-null    object\n",
      " 2   year        842 non-null    int32 \n",
      " 3   Price       842 non-null    int32 \n",
      " 4   kms_driven  842 non-null    int32 \n",
      " 5   fuel_type   842 non-null    object\n",
      "dtypes: int32(3), object(3)\n",
      "memory usage: 36.2+ KB\n"
     ]
    }
   ],
   "source": [
    "car_raw.info()"
   ],
   "metadata": {
    "collapsed": false,
    "pycharm": {
     "name": "#%%\n"
    }
   }
  },
  {
   "cell_type": "code",
   "execution_count": 30,
   "outputs": [
    {
     "data": {
      "text/plain": "0        Hyundai Santro Xing XO eRLX Euro III\n1                     Mahindra Jeep CL550 MDI\n2                  Maruti Suzuki Alto 800 Vxi\n3      Hyundai Grand i10 Magna 1.2 Kappa VTVT\n4            Ford EcoSport Titanium 1.5L TDCi\n                        ...                  \n886                      Toyota Corolla Altis\n888                       Tata Zest XM Diesel\n889                        Mahindra Quanto C8\n890                  Honda Amaze 1.2 E i VTEC\n891                 Chevrolet Sail 1.2 LT ABS\nName: name, Length: 842, dtype: object"
     },
     "execution_count": 30,
     "metadata": {},
     "output_type": "execute_result"
    }
   ],
   "source": [
    "car_raw['name']"
   ],
   "metadata": {
    "collapsed": false,
    "pycharm": {
     "name": "#%%\n"
    }
   }
  },
  {
   "cell_type": "code",
   "execution_count": 31,
   "outputs": [],
   "source": [
    "car_raw['name'] = car_raw['name'].str.split(' ').str.slice(0,3).str.join(' ')"
   ],
   "metadata": {
    "collapsed": false,
    "pycharm": {
     "name": "#%%\n"
    }
   }
  },
  {
   "cell_type": "code",
   "execution_count": 32,
   "outputs": [
    {
     "data": {
      "text/plain": "0         Hyundai Santro Xing\n1         Mahindra Jeep CL550\n2          Maruti Suzuki Alto\n3           Hyundai Grand i10\n4      Ford EcoSport Titanium\n                ...          \n886      Toyota Corolla Altis\n888              Tata Zest XM\n889        Mahindra Quanto C8\n890           Honda Amaze 1.2\n891        Chevrolet Sail 1.2\nName: name, Length: 842, dtype: object"
     },
     "execution_count": 32,
     "metadata": {},
     "output_type": "execute_result"
    }
   ],
   "source": [
    "car_raw['name']"
   ],
   "metadata": {
    "collapsed": false,
    "pycharm": {
     "name": "#%%\n"
    }
   }
  },
  {
   "cell_type": "code",
   "execution_count": 33,
   "outputs": [
    {
     "name": "stdout",
     "output_type": "stream",
     "text": [
      "<class 'pandas.core.frame.DataFrame'>\n",
      "Index: 842 entries, 0 to 891\n",
      "Data columns (total 6 columns):\n",
      " #   Column      Non-Null Count  Dtype \n",
      "---  ------      --------------  ----- \n",
      " 0   name        842 non-null    object\n",
      " 1   company     842 non-null    object\n",
      " 2   year        842 non-null    int32 \n",
      " 3   Price       842 non-null    int32 \n",
      " 4   kms_driven  842 non-null    int32 \n",
      " 5   fuel_type   842 non-null    object\n",
      "dtypes: int32(3), object(3)\n",
      "memory usage: 36.2+ KB\n"
     ]
    }
   ],
   "source": [
    "car_raw.info()"
   ],
   "metadata": {
    "collapsed": false,
    "pycharm": {
     "name": "#%%\n"
    }
   }
  },
  {
   "cell_type": "markdown",
   "source": [
    "## Creating new csv file with cleaned data"
   ],
   "metadata": {
    "collapsed": false,
    "pycharm": {
     "name": "#%% md\n"
    }
   }
  },
  {
   "cell_type": "code",
   "execution_count": 34,
   "outputs": [],
   "source": [
    "car_raw.to_csv('Data/car_cleaned.csv', index=False)"
   ],
   "metadata": {
    "collapsed": false,
    "pycharm": {
     "name": "#%%\n"
    }
   }
  },
  {
   "cell_type": "code",
   "execution_count": 35,
   "outputs": [],
   "source": [
    "car_cleaned = pd.read_csv('Data/car_cleaned.csv')"
   ],
   "metadata": {
    "collapsed": false,
    "pycharm": {
     "name": "#%%\n"
    }
   }
  },
  {
   "cell_type": "code",
   "execution_count": 36,
   "outputs": [
    {
     "data": {
      "text/plain": "                     name   company  year   Price  kms_driven fuel_type\n0     Hyundai Santro Xing   Hyundai  2007   80000       45000    Petrol\n1     Mahindra Jeep CL550  Mahindra  2006  425000          40    Diesel\n2      Maruti Suzuki Alto    Maruti  2018  299999       22000    Petrol\n3       Hyundai Grand i10   Hyundai  2014  325000       28000    Petrol\n4  Ford EcoSport Titanium      Ford  2014  575000       36000    Diesel",
      "text/html": "<div>\n<style scoped>\n    .dataframe tbody tr th:only-of-type {\n        vertical-align: middle;\n    }\n\n    .dataframe tbody tr th {\n        vertical-align: top;\n    }\n\n    .dataframe thead th {\n        text-align: right;\n    }\n</style>\n<table border=\"1\" class=\"dataframe\">\n  <thead>\n    <tr style=\"text-align: right;\">\n      <th></th>\n      <th>name</th>\n      <th>company</th>\n      <th>year</th>\n      <th>Price</th>\n      <th>kms_driven</th>\n      <th>fuel_type</th>\n    </tr>\n  </thead>\n  <tbody>\n    <tr>\n      <th>0</th>\n      <td>Hyundai Santro Xing</td>\n      <td>Hyundai</td>\n      <td>2007</td>\n      <td>80000</td>\n      <td>45000</td>\n      <td>Petrol</td>\n    </tr>\n    <tr>\n      <th>1</th>\n      <td>Mahindra Jeep CL550</td>\n      <td>Mahindra</td>\n      <td>2006</td>\n      <td>425000</td>\n      <td>40</td>\n      <td>Diesel</td>\n    </tr>\n    <tr>\n      <th>2</th>\n      <td>Maruti Suzuki Alto</td>\n      <td>Maruti</td>\n      <td>2018</td>\n      <td>299999</td>\n      <td>22000</td>\n      <td>Petrol</td>\n    </tr>\n    <tr>\n      <th>3</th>\n      <td>Hyundai Grand i10</td>\n      <td>Hyundai</td>\n      <td>2014</td>\n      <td>325000</td>\n      <td>28000</td>\n      <td>Petrol</td>\n    </tr>\n    <tr>\n      <th>4</th>\n      <td>Ford EcoSport Titanium</td>\n      <td>Ford</td>\n      <td>2014</td>\n      <td>575000</td>\n      <td>36000</td>\n      <td>Diesel</td>\n    </tr>\n  </tbody>\n</table>\n</div>"
     },
     "execution_count": 36,
     "metadata": {},
     "output_type": "execute_result"
    }
   ],
   "source": [
    "car_cleaned.head()"
   ],
   "metadata": {
    "collapsed": false,
    "pycharm": {
     "name": "#%%\n"
    }
   }
  },
  {
   "cell_type": "markdown",
   "source": [
    "## Checking for outliers in Price"
   ],
   "metadata": {
    "collapsed": false,
    "pycharm": {
     "name": "#%% md\n"
    }
   }
  },
  {
   "cell_type": "code",
   "execution_count": 37,
   "outputs": [
    {
     "data": {
      "text/plain": "count    8.420000e+02\nmean     4.079294e+05\nstd      4.683032e+05\nmin      3.000000e+04\n5%       7.500000e+04\n25%      1.782500e+05\n50%      2.999990e+05\n75%      4.899990e+05\n95%      1.074499e+06\n99%      1.896356e+06\nmax      8.500003e+06\nName: Price, dtype: float64"
     },
     "execution_count": 37,
     "metadata": {},
     "output_type": "execute_result"
    }
   ],
   "source": [
    "# Checking for outliers in Price\n",
    "car_cleaned['Price'].describe(percentiles=[0.05,0.25,0.5,0.75,0.95,0.99])"
   ],
   "metadata": {
    "collapsed": false,
    "pycharm": {
     "name": "#%%\n"
    }
   }
  },
  {
   "cell_type": "code",
   "execution_count": 38,
   "outputs": [],
   "source": [
    "car_cleaned.loc[car_cleaned['Price']>8500000,'Price'] = int(car_cleaned['Price'].mean())"
   ],
   "metadata": {
    "collapsed": false,
    "pycharm": {
     "name": "#%%\n"
    }
   }
  },
  {
   "cell_type": "code",
   "execution_count": 39,
   "outputs": [
    {
     "data": {
      "text/plain": "              year         Price     kms_driven\ncount   842.000000  8.420000e+02     842.000000\nmean   2012.523753  3.983189e+05   45986.747031\nstd       4.024601  3.759704e+05   34389.283568\nmin    1995.000000  3.000000e+04       0.000000\n5%     2004.000000  7.500000e+04    3207.500000\n25%    2010.000000  1.782500e+05   25125.000000\n50%    2013.000000  2.999990e+05   41000.000000\n75%    2015.000000  4.894992e+05   56300.000000\n95%    2018.000000  1.063000e+06  103503.500000\n99%    2019.000000  1.891111e+06  175417.700000\nmax    2019.000000  3.100000e+06  400000.000000",
      "text/html": "<div>\n<style scoped>\n    .dataframe tbody tr th:only-of-type {\n        vertical-align: middle;\n    }\n\n    .dataframe tbody tr th {\n        vertical-align: top;\n    }\n\n    .dataframe thead th {\n        text-align: right;\n    }\n</style>\n<table border=\"1\" class=\"dataframe\">\n  <thead>\n    <tr style=\"text-align: right;\">\n      <th></th>\n      <th>year</th>\n      <th>Price</th>\n      <th>kms_driven</th>\n    </tr>\n  </thead>\n  <tbody>\n    <tr>\n      <th>count</th>\n      <td>842.000000</td>\n      <td>8.420000e+02</td>\n      <td>842.000000</td>\n    </tr>\n    <tr>\n      <th>mean</th>\n      <td>2012.523753</td>\n      <td>3.983189e+05</td>\n      <td>45986.747031</td>\n    </tr>\n    <tr>\n      <th>std</th>\n      <td>4.024601</td>\n      <td>3.759704e+05</td>\n      <td>34389.283568</td>\n    </tr>\n    <tr>\n      <th>min</th>\n      <td>1995.000000</td>\n      <td>3.000000e+04</td>\n      <td>0.000000</td>\n    </tr>\n    <tr>\n      <th>5%</th>\n      <td>2004.000000</td>\n      <td>7.500000e+04</td>\n      <td>3207.500000</td>\n    </tr>\n    <tr>\n      <th>25%</th>\n      <td>2010.000000</td>\n      <td>1.782500e+05</td>\n      <td>25125.000000</td>\n    </tr>\n    <tr>\n      <th>50%</th>\n      <td>2013.000000</td>\n      <td>2.999990e+05</td>\n      <td>41000.000000</td>\n    </tr>\n    <tr>\n      <th>75%</th>\n      <td>2015.000000</td>\n      <td>4.894992e+05</td>\n      <td>56300.000000</td>\n    </tr>\n    <tr>\n      <th>95%</th>\n      <td>2018.000000</td>\n      <td>1.063000e+06</td>\n      <td>103503.500000</td>\n    </tr>\n    <tr>\n      <th>99%</th>\n      <td>2019.000000</td>\n      <td>1.891111e+06</td>\n      <td>175417.700000</td>\n    </tr>\n    <tr>\n      <th>max</th>\n      <td>2019.000000</td>\n      <td>3.100000e+06</td>\n      <td>400000.000000</td>\n    </tr>\n  </tbody>\n</table>\n</div>"
     },
     "execution_count": 39,
     "metadata": {},
     "output_type": "execute_result"
    }
   ],
   "source": [
    "car_cleaned.describe(percentiles=[0.05,0.25,0.5,0.75,0.95,0.99])"
   ],
   "metadata": {
    "collapsed": false,
    "pycharm": {
     "name": "#%%\n"
    }
   }
  },
  {
   "cell_type": "code",
   "execution_count": 40,
   "outputs": [
    {
     "data": {
      "text/plain": "Empty DataFrame\nColumns: [name, company, year, Price, kms_driven, fuel_type]\nIndex: []",
      "text/html": "<div>\n<style scoped>\n    .dataframe tbody tr th:only-of-type {\n        vertical-align: middle;\n    }\n\n    .dataframe tbody tr th {\n        vertical-align: top;\n    }\n\n    .dataframe thead th {\n        text-align: right;\n    }\n</style>\n<table border=\"1\" class=\"dataframe\">\n  <thead>\n    <tr style=\"text-align: right;\">\n      <th></th>\n      <th>name</th>\n      <th>company</th>\n      <th>year</th>\n      <th>Price</th>\n      <th>kms_driven</th>\n      <th>fuel_type</th>\n    </tr>\n  </thead>\n  <tbody>\n  </tbody>\n</table>\n</div>"
     },
     "execution_count": 40,
     "metadata": {},
     "output_type": "execute_result"
    }
   ],
   "source": [
    "car_cleaned[car_cleaned['Price']>6000000]"
   ],
   "metadata": {
    "collapsed": false,
    "pycharm": {
     "name": "#%%\n"
    }
   }
  },
  {
   "cell_type": "markdown",
   "source": [
    "## Plotting"
   ],
   "metadata": {
    "collapsed": false,
    "pycharm": {
     "name": "#%% md\n"
    }
   }
  },
  {
   "cell_type": "code",
   "execution_count": 41,
   "outputs": [],
   "source": [
    "import seaborn as sns"
   ],
   "metadata": {
    "collapsed": false,
    "pycharm": {
     "name": "#%%\n"
    }
   }
  },
  {
   "cell_type": "code",
   "execution_count": 42,
   "outputs": [
    {
     "name": "stderr",
     "output_type": "stream",
     "text": [
      "C:\\Users\\Shakil\\AppData\\Local\\Temp\\ipykernel_20712\\1342360787.py:15: UserWarning: \n",
      "\n",
      "`distplot` is a deprecated function and will be removed in seaborn v0.14.0.\n",
      "\n",
      "Please adapt your code to use either `displot` (a figure-level function with\n",
      "similar flexibility) or `histplot` (an axes-level function for histograms).\n",
      "\n",
      "For a guide to updating your code to use the new functions, please see\n",
      "https://gist.github.com/mwaskom/de44147ed2974457ad6372750bbe5751\n",
      "\n",
      "  sns.distplot(car_cleaned['Price'], ax=axes[0, 1], color='blue')\n",
      "C:\\Users\\Shakil\\AppData\\Local\\Temp\\ipykernel_20712\\1342360787.py:19: UserWarning: \n",
      "\n",
      "`distplot` is a deprecated function and will be removed in seaborn v0.14.0.\n",
      "\n",
      "Please adapt your code to use either `displot` (a figure-level function with\n",
      "similar flexibility) or `histplot` (an axes-level function for histograms).\n",
      "\n",
      "For a guide to updating your code to use the new functions, please see\n",
      "https://gist.github.com/mwaskom/de44147ed2974457ad6372750bbe5751\n",
      "\n",
      "  sns.distplot(car_cleaned['kms_driven'], ax=axes[1, 0], color='green')\n",
      "C:\\Users\\Shakil\\AppData\\Local\\Temp\\ipykernel_20712\\1342360787.py:23: UserWarning: \n",
      "\n",
      "`distplot` is a deprecated function and will be removed in seaborn v0.14.0.\n",
      "\n",
      "Please adapt your code to use either `displot` (a figure-level function with\n",
      "similar flexibility) or `histplot` (an axes-level function for histograms).\n",
      "\n",
      "For a guide to updating your code to use the new functions, please see\n",
      "https://gist.github.com/mwaskom/de44147ed2974457ad6372750bbe5751\n",
      "\n",
      "  sns.distplot(car_cleaned['year'], ax=axes[1, 1], color='orange')\n"
     ]
    },
    {
     "data": {
      "text/plain": "<Figure size 1500x1000 with 4 Axes>",
      "image/png": "[encoded data removed]"
     },
     "metadata": {},
     "output_type": "display_data"
    }
   ],
   "source": [
    "# Set style for better aesthetics\n",
    "sns.set(style=\"whitegrid\")\n",
    "\n",
    "# Create subplots\n",
    "fig, axes = plt.subplots(2, 2, figsize=(15, 10))\n",
    "\n",
    "# Box plot of Price by Company\n",
    "ax1 = sns.boxplot(x='company', y='Price', data=car_cleaned, ax=axes[0, 0])\n",
    "ax1.set_xticklabels(ax1.get_xticklabels(), rotation=40, ha='right')\n",
    "ax1.set_title('Price Distribution by Company')\n",
    "ax1.set_xlabel('Company')\n",
    "ax1.set_ylabel('Price')\n",
    "\n",
    "# Distribution plots for Price, Kilometers Driven, and Year\n",
    "sns.distplot(car_cleaned['Price'], ax=axes[0, 1], color='blue')\n",
    "axes[0, 1].set_title('Distribution of Prices')\n",
    "axes[0, 1].set_xlabel('Price')\n",
    "\n",
    "sns.distplot(car_cleaned['kms_driven'], ax=axes[1, 0], color='green')\n",
    "axes[1, 0].set_title('Distribution of Kilometers Driven')\n",
    "axes[1, 0].set_xlabel('Kilometers Driven')\n",
    "\n",
    "sns.distplot(car_cleaned['year'], ax=axes[1, 1], color='orange')\n",
    "axes[1, 1].set_title('Distribution of Years')\n",
    "axes[1, 1].set_xlabel('Year')\n",
    "\n",
    "# Adjust layout\n",
    "plt.tight_layout()\n",
    "\n",
    "# Show the plot\n",
    "plt.show()"
   ],
   "metadata": {
    "collapsed": false,
    "pycharm": {
     "name": "#%%\n"
    }
   }
  },
  {
   "cell_type": "markdown",
   "source": [
    "# Checking relationship of Fuel Type with Price"
   ],
   "metadata": {
    "collapsed": false,
    "pycharm": {
     "name": "#%% md\n"
    }
   }
  },
  {
   "cell_type": "code",
   "execution_count": 43,
   "outputs": [
    {
     "data": {
      "text/plain": "<Axes: xlabel='fuel_type', ylabel='Price'>"
     },
     "execution_count": 43,
     "metadata": {},
     "output_type": "execute_result"
    },
    {
     "data": {
      "text/plain": "<Figure size 1400x700 with 1 Axes>",
      "image/png": "[encoded data removed]"
     },
     "metadata": {},
     "output_type": "display_data"
    }
   ],
   "source": [
    "plt.subplots(figsize=(14,7))\n",
    "sns.boxplot(x='fuel_type',y='Price',data=car_cleaned)"
   ],
   "metadata": {
    "collapsed": false,
    "pycharm": {
     "name": "#%%\n"
    }
   }
  },
  {
   "cell_type": "markdown",
   "source": [
    "# Model Building"
   ],
   "metadata": {
    "collapsed": false,
    "pycharm": {
     "name": "#%% md\n"
    }
   }
  },
  {
   "cell_type": "code",
   "execution_count": 44,
   "outputs": [],
   "source": [
    "X = car_cleaned.drop(columns='Price')\n",
    "y = car_cleaned['Price']"
   ],
   "metadata": {
    "collapsed": false,
    "pycharm": {
     "name": "#%%\n"
    }
   }
  },
  {
   "cell_type": "markdown",
   "source": [
    "# Applying Train Test Split"
   ],
   "metadata": {
    "collapsed": false,
    "pycharm": {
     "name": "#%% md\n"
    }
   }
  },
  {
   "cell_type": "code",
   "execution_count": 45,
   "outputs": [],
   "source": [
    "from sklearn.model_selection import train_test_split"
   ],
   "metadata": {
    "collapsed": false,
    "pycharm": {
     "name": "#%%\n"
    }
   }
  },
  {
   "cell_type": "code",
   "execution_count": 46,
   "outputs": [],
   "source": [
    "X_train,X_test,y_train,y_test = train_test_split(X,y,test_size=0.2,random_state=51)"
   ],
   "metadata": {
    "collapsed": false,
    "pycharm": {
     "name": "#%%\n"
    }
   }
  },
  {
   "cell_type": "code",
   "execution_count": 47,
   "outputs": [],
   "source": [
    "from sklearn.linear_model import LinearRegression\n",
    "from sklearn.preprocessing import OneHotEncoder\n",
    "from sklearn.compose import make_column_transformer\n",
    "from sklearn.pipeline import make_pipeline\n",
    "from sklearn.metrics import r2_score"
   ],
   "metadata": {
    "collapsed": false,
    "pycharm": {
     "name": "#%%\n"
    }
   }
  },
  {
   "cell_type": "code",
   "execution_count": 48,
   "outputs": [],
   "source": [
    "ohe = OneHotEncoder()"
   ],
   "metadata": {
    "collapsed": false,
    "pycharm": {
     "name": "#%%\n"
    }
   }
  },
  {
   "cell_type": "code",
   "execution_count": 49,
   "outputs": [
    {
     "data": {
      "text/plain": "OneHotEncoder()",
      "text/html": "<style>#sk-container-id-1 {color: black;}#sk-container-id-1 pre{padding: 0;}#sk-container-id-1 div.sk-toggleable {background-color: white;}#sk-container-id-1 label.sk-toggleable__label {cursor: pointer;display: block;width: 100%;margin-bottom: 0;padding: 0.3em;box-sizing: border-box;text-align: center;}#sk-container-id-1 label.sk-toggleable__label-arrow:before {content: \"▸\";float: left;margin-right: 0.25em;color: #696969;}#sk-container-id-1 label.sk-toggleable__label-arrow:hover:before {color: black;}#sk-container-id-1 div.sk-estimator:hover label.sk-toggleable__label-arrow:before {color: black;}#sk-container-id-1 div.sk-toggleable__content {max-height: 0;max-width: 0;overflow: hidden;text-align: left;background-color: #f0f8ff;}#sk-container-id-1 div.sk-toggleable__content pre {margin: 0.2em;color: black;border-radius: 0.25em;background-color: #f0f8ff;}#sk-container-id-1 input.sk-toggleable__control:checked~div.sk-toggleable__content {max-height: 200px;max-width: 100%;overflow: auto;}#sk-container-id-1 input.sk-toggleable__control:checked~label.sk-toggleable__label-arrow:before {content: \"▾\";}#sk-container-id-1 div.sk-estimator input.sk-toggleable__control:checked~label.sk-toggleable__label {background-color: #d4ebff;}#sk-container-id-1 div.sk-label input.sk-toggleable__control:checked~label.sk-toggleable__label {background-color: #d4ebff;}#sk-container-id-1 input.sk-hidden--visually {border: 0;clip: rect(1px 1px 1px 1px);clip: rect(1px, 1px, 1px, 1px);height: 1px;margin: -1px;overflow: hidden;padding: 0;position: absolute;width: 1px;}#sk-container-id-1 div.sk-estimator {font-family: monospace;background-color: #f0f8ff;border: 1px dotted black;border-radius: 0.25em;box-sizing: border-box;margin-bottom: 0.5em;}#sk-container-id-1 div.sk-estimator:hover {background-color: #d4ebff;}#sk-container-id-1 div.sk-parallel-item::after {content: \"\";width: 100%;border-bottom: 1px solid gray;flex-grow: 1;}#sk-container-id-1 div.sk-label:hover label.sk-toggleable__label {background-color: #d4ebff;}#sk-container-id-1 div.sk-serial::before {content: \"\";position: absolute;border-left: 1px solid gray;box-sizing: border-box;top: 0;bottom: 0;left: 50%;z-index: 0;}#sk-container-id-1 div.sk-serial {display: flex;flex-direction: column;align-items: center;background-color: white;padding-right: 0.2em;padding-left: 0.2em;position: relative;}#sk-container-id-1 div.sk-item {position: relative;z-index: 1;}#sk-container-id-1 div.sk-parallel {display: flex;align-items: stretch;justify-content: center;background-color: white;position: relative;}#sk-container-id-1 div.sk-item::before, #sk-container-id-1 div.sk-parallel-item::before {content: \"\";position: absolute;border-left: 1px solid gray;box-sizing: border-box;top: 0;bottom: 0;left: 50%;z-index: -1;}#sk-container-id-1 div.sk-parallel-item {display: flex;flex-direction: column;z-index: 1;position: relative;background-color: white;}#sk-container-id-1 div.sk-parallel-item:first-child::after {align-self: flex-end;width: 50%;}#sk-container-id-1 div.sk-parallel-item:last-child::after {align-self: flex-start;width: 50%;}#sk-container-id-1 div.sk-parallel-item:only-child::after {width: 0;}#sk-container-id-1 div.sk-dashed-wrapped {border: 1px dashed gray;margin: 0 0.4em 0.5em 0.4em;box-sizing: border-box;padding-bottom: 0.4em;background-color: white;}#sk-container-id-1 div.sk-label label {font-family: monospace;font-weight: bold;display: inline-block;line-height: 1.2em;}#sk-container-id-1 div.sk-label-container {text-align: center;}#sk-container-id-1 div.sk-container {/* jupyter's `normalize.less` sets `[hidden] { display: none; }` but bootstrap.min.css set `[hidden] { display: none !important; }` so we also need the `!important` here to be able to override the default hidden behavior on the sphinx rendered scikit-learn.org. See: https://github.com/scikit-learn/scikit-learn/issues/21755 */display: inline-block !important;position: relative;}#sk-container-id-1 div.sk-text-repr-fallback {display: none;}</style><div id=\"sk-container-id-1\" class=\"sk-top-container\"><div class=\"sk-text-repr-fallback\"><pre>OneHotEncoder()</pre><b>In a Jupyter environment, please rerun this cell to show the HTML representation or trust the notebook. <br />On GitHub, the HTML representation is unable to render, please try loading this page with nbviewer.org.</b></div><div class=\"sk-container\" hidden><div class=\"sk-item\"><div class=\"sk-estimator sk-toggleable\"><input class=\"sk-toggleable__control sk-hidden--visually\" id=\"sk-estimator-id-1\" type=\"checkbox\" checked><label for=\"sk-estimator-id-1\" class=\"sk-toggleable__label sk-toggleable__label-arrow\">OneHotEncoder</label><div class=\"sk-toggleable__content\"><pre>OneHotEncoder()</pre></div></div></div></div></div>"
     },
     "execution_count": 49,
     "metadata": {},
     "output_type": "execute_result"
    }
   ],
   "source": [
    "ohe.fit(X[['name','company','fuel_type']])"
   ],
   "metadata": {
    "collapsed": false,
    "pycharm": {
     "name": "#%%\n"
    }
   }
  },
  {
   "cell_type": "markdown",
   "source": [
    "## Creating a column transformer to transform categorical columns"
   ],
   "metadata": {
    "collapsed": false,
    "pycharm": {
     "name": "#%% md\n"
    }
   }
  },
  {
   "cell_type": "code",
   "execution_count": 50,
   "outputs": [],
   "source": [
    "column_trans = make_column_transformer((OneHotEncoder(categories=ohe.categories_),['name','company','fuel_type']),\n",
    "                                       remainder='passthrough')"
   ],
   "metadata": {
    "collapsed": false,
    "pycharm": {
     "name": "#%%\n"
    }
   }
  },
  {
   "cell_type": "code",
   "execution_count": 51,
   "outputs": [],
   "source": [
    "lr = LinearRegression()"
   ],
   "metadata": {
    "collapsed": false,
    "pycharm": {
     "name": "#%%\n"
    }
   }
  },
  {
   "cell_type": "code",
   "execution_count": 52,
   "outputs": [],
   "source": [
    "pipe=make_pipeline(column_trans,lr)"
   ],
   "metadata": {
    "collapsed": false,
    "pycharm": {
     "name": "#%%\n"
    }
   }
  },
  {
   "cell_type": "code",
   "execution_count": 53,
   "outputs": [
    {
     "name": "stdout",
     "output_type": "stream",
     "text": [
      "Pipeline(steps=[('columntransformer',\n",
      "                 ColumnTransformer(remainder='passthrough',\n",
      "                                   transformers=[('onehotencoder',\n",
      "                                                  OneHotEncoder(categories=[array(['Audi A3 Cabriolet', 'Audi A4 1.8', 'Audi A4 2.0', 'Audi A6 2.0',\n",
      "       'Audi A8', 'Audi Q3 2.0', 'Audi Q5 2.0', 'Audi Q7', 'BMW 3 Series',\n",
      "       'BMW 5 Series', 'BMW 7 Series', 'BMW X1', 'BMW X1 sDrive20d',\n",
      "       'BMW X1 xDrive20d', 'Chevrolet Beat', 'Chevrolet Beat...\n",
      "                                                                            array(['Audi', 'BMW', 'Chevrolet', 'Datsun', 'Fiat', 'Force', 'Ford',\n",
      "       'Hindustan', 'Honda', 'Hyundai', 'I', 'Jaguar', 'Jeep', 'Land',\n",
      "       'Mahindra', 'Maruti', 'Mercedes', 'Mini', 'Mitsubishi', 'Nissan',\n",
      "       'Renault', 'Skoda', 'Tata', 'Toyota', 'Volkswagen', 'Volvo'],\n",
      "      dtype=object),\n",
      "                                                                            array(['Diesel', 'LPG', 'Petrol'], dtype=object)]),\n",
      "                                                  ['name', 'company',\n",
      "                                                   'fuel_type'])])),\n",
      "                ('linearregression', LinearRegression())])\n"
     ]
    }
   ],
   "source": [
    "pipe.fit(X_train,y_train)\n",
    "print(pipe.fit(X_train,y_train))"
   ],
   "metadata": {
    "collapsed": false,
    "pycharm": {
     "name": "#%%\n"
    }
   }
  },
  {
   "cell_type": "code",
   "execution_count": 54,
   "outputs": [
    {
     "name": "stdout",
     "output_type": "stream",
     "text": [
      "[ 374608.95524401  218096.41143339  329235.78766207  -18257.24780701\n",
      "  497503.37134387  475830.49624257  396513.13166931  163824.43670624\n",
      "  450875.20101779  436464.19155705  259590.88455959  684287.78841279\n",
      " 1119359.19217943  363589.9058788   693414.39074659  589719.1324188\n",
      "  374492.57145384  424586.00472087  280321.03416984  352383.12652931\n",
      "  587857.30752899  346843.26215677  435012.06001171  792150.73656706\n",
      "   69695.46108192  -92562.43882794  436753.3059076   567713.02031879\n",
      "  620475.59943723  105586.12782311  379427.76606255  200584.9652753\n",
      "  295523.96309993  199673.30721419  570956.23384815  139722.1967864\n",
      "  320534.4097841   187535.89004976  275418.95144864  278841.15913482\n",
      " 2181012.63503058  356196.79095649  334001.45732476  535893.81958688\n",
      "  439182.24843054  297123.68687472  278700.28269692 2181285.26319338\n",
      " 1798904.46343037  297384.49734927  581649.79492298  245010.69741079\n",
      "  372569.36437946  459359.24502268  207171.55901118  305878.1927922\n",
      "  -58594.25526841  295993.65935346  386502.13941281  279467.73778547\n",
      "  651311.29042973  238868.1744828    86901.92352989  318261.41299341\n",
      "  236026.66021004  378092.17150895  560766.88033273 1417738.54658587\n",
      "   84801.12213845  188459.38489193  436456.36375817  329711.79583097\n",
      "  272347.52097727  255042.31970124  792150.73656706  536848.59873176\n",
      "  188127.08758845  617775.34664407  438052.79367611  107032.65131551\n",
      "  437554.70420825  387047.39573842  445862.01461714 1682049.35469533\n",
      "  544058.68931478  443039.76269155   47572.67510065  366905.70102549\n",
      "  304165.57782121  268756.66401906  452553.7793118  -147753.31736849\n",
      "  421222.59313771  703106.00919107  540181.17007506  208078.19216822\n",
      "  440826.24216183  415484.79357669  447281.11450636  787835.51088918\n",
      "  154942.27676264  294772.82722843  685112.55044634   89386.11334272\n",
      "  373070.1251889   618930.66383594  575822.14925046  534132.1958852\n",
      "  290150.66553447   93748.1639475   198685.39988334  235527.38837251\n",
      "  232384.6624216   524197.64645651  152779.15140748  664311.55697489\n",
      "  260376.59892477  378092.17150895 1099623.62272038  593201.30033187\n",
      "  511249.53607321  414436.55762211 1145301.4314096   380129.45892927\n",
      "  639771.98282626   15840.48670171  462904.52025508  422508.23605685\n",
      "  285793.32333608  421222.59313771  376273.41543972  278700.28269692\n",
      "  407024.48404417  263501.4177999   369222.79808214  -51505.92303564\n",
      "  258975.55226964  287424.38390648  294729.08337123  508491.63409893\n",
      " -175331.32557546  342482.82647201  161287.40056265   65986.88061553\n",
      "  336552.99869813   55910.56354221  155264.52639994  317297.52315687\n",
      "  176908.86437151  425831.69320789  280349.51311256  703235.65289296\n",
      "  433855.36225604  478498.0730011  2181285.26319338 1084214.33453701\n",
      "  204835.85886761  461431.14476892 1669857.24274359  560766.88033273\n",
      "  219246.88828875  108310.90366244  165585.34322899  867254.24701957\n",
      "  178395.0242457    95706.2486504   368830.65788612  709022.26769214\n",
      "  508180.0778736 ]\n"
     ]
    }
   ],
   "source": [
    "y_pred = pipe.predict(X_test)\n",
    "print(y_pred)"
   ],
   "metadata": {
    "collapsed": false,
    "pycharm": {
     "name": "#%%\n"
    }
   }
  },
  {
   "cell_type": "code",
   "execution_count": 55,
   "outputs": [
    {
     "data": {
      "text/plain": "0.7277397717699223"
     },
     "execution_count": 55,
     "metadata": {},
     "output_type": "execute_result"
    }
   ],
   "source": [
    "r2_score(y_test,y_pred)"
   ],
   "metadata": {
    "collapsed": false,
    "pycharm": {
     "name": "#%%\n"
    }
   }
  },
  {
   "cell_type": "markdown",
   "source": [
    "## Identifying a model using a specific random state in Train-Test Split, which yielded an r2_score close to 0.92."
   ],
   "metadata": {
    "collapsed": false,
    "pycharm": {
     "name": "#%% md\n"
    }
   }
  },
  {
   "cell_type": "code",
   "execution_count": 56,
   "outputs": [],
   "source": [
    "scores=[]\n",
    "for i in range(1000):\n",
    "    X_train,X_test,y_train,y_test=train_test_split(X,y,test_size=0.1,random_state=i)\n",
    "    lr=LinearRegression()\n",
    "    pipe=make_pipeline(column_trans,lr)\n",
    "    pipe.fit(X_train,y_train)\n",
    "    y_pred=pipe.predict(X_test)\n",
    "    scores.append(r2_score(y_test,y_pred))"
   ],
   "metadata": {
    "collapsed": false,
    "pycharm": {
     "name": "#%%\n"
    }
   }
  },
  {
   "cell_type": "code",
   "execution_count": 57,
   "outputs": [
    {
     "data": {
      "text/plain": "402"
     },
     "execution_count": 57,
     "metadata": {},
     "output_type": "execute_result"
    }
   ],
   "source": [
    "np.argmax(scores)"
   ],
   "metadata": {
    "collapsed": false,
    "pycharm": {
     "name": "#%%\n"
    }
   }
  },
  {
   "cell_type": "code",
   "execution_count": 58,
   "outputs": [
    {
     "data": {
      "text/plain": "0.8815249744111603"
     },
     "execution_count": 58,
     "metadata": {},
     "output_type": "execute_result"
    }
   ],
   "source": [
    "scores[np.argmax(scores)]"
   ],
   "metadata": {
    "collapsed": false,
    "pycharm": {
     "name": "#%%\n"
    }
   }
  },
  {
   "cell_type": "code",
   "execution_count": 59,
   "outputs": [
    {
     "data": {
      "text/plain": "array([479010.58739464])"
     },
     "execution_count": 59,
     "metadata": {},
     "output_type": "execute_result"
    }
   ],
   "source": [
    "pipe.predict(pd.DataFrame(columns=X_test.columns,data=np.array(['Maruti Suzuki Swift','Maruti',2019,100,'Petrol']).reshape(1,5)))"
   ],
   "metadata": {
    "collapsed": false,
    "pycharm": {
     "name": "#%%\n"
    }
   }
  },
  {
   "cell_type": "code",
   "execution_count": 60,
   "outputs": [
    {
     "data": {
      "text/plain": "array(['Audi A3 Cabriolet', 'Audi A4 1.8', 'Audi A4 2.0', 'Audi A6 2.0',\n       'Audi A8', 'Audi Q3 2.0', 'Audi Q5 2.0', 'Audi Q7', 'BMW 3 Series',\n       'BMW 5 Series', 'BMW 7 Series', 'BMW X1', 'BMW X1 sDrive20d',\n       'BMW X1 xDrive20d', 'Chevrolet Beat', 'Chevrolet Beat Diesel',\n       'Chevrolet Beat LS', 'Chevrolet Beat LT', 'Chevrolet Beat PS',\n       'Chevrolet Cruze LTZ', 'Chevrolet Enjoy', 'Chevrolet Enjoy 1.4',\n       'Chevrolet Sail 1.2', 'Chevrolet Sail UVA', 'Chevrolet Spark',\n       'Chevrolet Spark 1.0', 'Chevrolet Spark LS', 'Chevrolet Spark LT',\n       'Chevrolet Tavera LS', 'Chevrolet Tavera Neo', 'Datsun GO T',\n       'Datsun Go Plus', 'Datsun Redi GO', 'Fiat Linea Emotion',\n       'Fiat Petra ELX', 'Fiat Punto Emotion', 'Force Motors Force',\n       'Force Motors One', 'Ford EcoSport', 'Ford EcoSport Ambiente',\n       'Ford EcoSport Titanium', 'Ford EcoSport Trend',\n       'Ford Endeavor 4x4', 'Ford Fiesta', 'Ford Fiesta SXi', 'Ford Figo',\n       'Ford Figo Diesel', 'Ford Figo Duratorq', 'Ford Figo Petrol',\n       'Ford Fusion 1.4', 'Ford Ikon 1.3', 'Ford Ikon 1.6',\n       'Hindustan Motors Ambassador', 'Honda Accord', 'Honda Amaze',\n       'Honda Amaze 1.2', 'Honda Amaze 1.5', 'Honda Brio', 'Honda Brio V',\n       'Honda Brio VX', 'Honda City', 'Honda City 1.5', 'Honda City SV',\n       'Honda City VX', 'Honda City ZX', 'Honda Jazz S', 'Honda Jazz VX',\n       'Honda Mobilio', 'Honda Mobilio S', 'Honda WR V', 'Hyundai Accent',\n       'Hyundai Accent Executive', 'Hyundai Accent GLE',\n       'Hyundai Accent GLX', 'Hyundai Creta', 'Hyundai Creta 1.6',\n       'Hyundai Elantra 1.8', 'Hyundai Elantra SX', 'Hyundai Elite i20',\n       'Hyundai Eon', 'Hyundai Eon D', 'Hyundai Eon Era',\n       'Hyundai Eon Magna', 'Hyundai Eon Sportz', 'Hyundai Fluidic Verna',\n       'Hyundai Getz', 'Hyundai Getz GLE', 'Hyundai Getz Prime',\n       'Hyundai Grand i10', 'Hyundai Santro', 'Hyundai Santro AE',\n       'Hyundai Santro Xing', 'Hyundai Sonata Transform', 'Hyundai Venue',\n       'Hyundai Verna', 'Hyundai Verna 1.4', 'Hyundai Verna 1.6',\n       'Hyundai Verna Fluidic', 'Hyundai Verna Transform',\n       'Hyundai Verna VGT', 'Hyundai Xcent Base', 'Hyundai Xcent S',\n       'Hyundai Xcent SX', 'Hyundai i10', 'Hyundai i10 Era',\n       'Hyundai i10 Magna', 'Hyundai i10 Sportz', 'Hyundai i20',\n       'Hyundai i20 Active', 'Hyundai i20 Asta', 'Hyundai i20 Magna',\n       'Hyundai i20 Select', 'Hyundai i20 Sportz', 'I want to',\n       'Jaguar XE XE', 'Jaguar XF 2.2', 'Jeep Wrangler Unlimited',\n       'Land Rover Freelander', 'Mahindra Bolero DI',\n       'Mahindra Bolero Power', 'Mahindra Bolero SLE',\n       'Mahindra Jeep CL550', 'Mahindra Jeep MM', 'Mahindra KUV100',\n       'Mahindra KUV100 K8', 'Mahindra Logan', 'Mahindra Logan Diesel',\n       'Mahindra Quanto C4', 'Mahindra Quanto C8', 'Mahindra Scorpio',\n       'Mahindra Scorpio 2.6', 'Mahindra Scorpio LX',\n       'Mahindra Scorpio S10', 'Mahindra Scorpio S4',\n       'Mahindra Scorpio SLE', 'Mahindra Scorpio SLX',\n       'Mahindra Scorpio VLX', 'Mahindra Scorpio Vlx',\n       'Mahindra Scorpio W', 'Mahindra TUV300 T4', 'Mahindra TUV300 T8',\n       'Mahindra Thar CRDe', 'Mahindra XUV500', 'Mahindra XUV500 W10',\n       'Mahindra XUV500 W6', 'Mahindra XUV500 W8', 'Mahindra Xylo D2',\n       'Mahindra Xylo E4', 'Mahindra Xylo E8', 'Maruti Suzuki 800',\n       'Maruti Suzuki A', 'Maruti Suzuki Alto', 'Maruti Suzuki Baleno',\n       'Maruti Suzuki Celerio', 'Maruti Suzuki Ciaz',\n       'Maruti Suzuki Dzire', 'Maruti Suzuki Eeco',\n       'Maruti Suzuki Ertiga', 'Maruti Suzuki Esteem',\n       'Maruti Suzuki Estilo', 'Maruti Suzuki Maruti',\n       'Maruti Suzuki Omni', 'Maruti Suzuki Ritz', 'Maruti Suzuki S',\n       'Maruti Suzuki SX4', 'Maruti Suzuki Stingray',\n       'Maruti Suzuki Swift', 'Maruti Suzuki Versa',\n       'Maruti Suzuki Vitara', 'Maruti Suzuki Wagon', 'Maruti Suzuki Zen',\n       'Mercedes Benz A', 'Mercedes Benz B', 'Mercedes Benz C',\n       'Mercedes Benz GLA', 'Mini Cooper S', 'Mitsubishi Lancer 1.8',\n       'Mitsubishi Pajero Sport', 'Nissan Micra XL', 'Nissan Micra XV',\n       'Nissan Sunny', 'Nissan Sunny XL', 'Nissan Terrano XL',\n       'Nissan X Trail', 'Renault Duster', 'Renault Duster 110',\n       'Renault Duster 110PS', 'Renault Duster 85', 'Renault Duster 85PS',\n       'Renault Duster RxL', 'Renault Kwid', 'Renault Kwid 1.0',\n       'Renault Kwid RXT', 'Renault Lodgy', 'Renault Lodgy 85',\n       'Renault Scala RxL', 'Skoda Fabia', 'Skoda Fabia 1.2L',\n       'Skoda Fabia Classic', 'Skoda Laura', 'Skoda Octavia Classic',\n       'Skoda Rapid Elegance', 'Skoda Superb 1.8', 'Skoda Yeti Ambition',\n       'Tata Aria Pleasure', 'Tata Bolt XM', 'Tata Indica',\n       'Tata Indica V2', 'Tata Indica eV2', 'Tata Indigo CS',\n       'Tata Indigo LS', 'Tata Indigo LX', 'Tata Indigo Marina',\n       'Tata Indigo eCS', 'Tata Manza', 'Tata Manza Aqua',\n       'Tata Manza Aura', 'Tata Manza ELAN', 'Tata Nano', 'Tata Nano Cx',\n       'Tata Nano GenX', 'Tata Nano LX', 'Tata Nano Lx', 'Tata Nexon',\n       'Tata Sumo Gold', 'Tata Sumo Grande', 'Tata Sumo Victa',\n       'Tata Tiago Revotorq', 'Tata Tiago Revotron',\n       'Tata Tigor Revotron', 'Tata Venture EX', 'Tata Vista Quadrajet',\n       'Tata Zest Quadrajet', 'Tata Zest XE', 'Tata Zest XM',\n       'Toyota Corolla', 'Toyota Corolla Altis', 'Toyota Corolla H2',\n       'Toyota Etios', 'Toyota Etios G', 'Toyota Etios GD',\n       'Toyota Etios Liva', 'Toyota Fortuner', 'Toyota Fortuner 3.0',\n       'Toyota Innova 2.0', 'Toyota Innova 2.5', 'Toyota Qualis',\n       'Volkswagen Jetta Comfortline', 'Volkswagen Jetta Highline',\n       'Volkswagen Passat Diesel', 'Volkswagen Polo',\n       'Volkswagen Polo Comfortline', 'Volkswagen Polo Highline',\n       'Volkswagen Polo Highline1.2L', 'Volkswagen Polo Trendline',\n       'Volkswagen Vento Comfortline', 'Volkswagen Vento Highline',\n       'Volkswagen Vento Konekt', 'Volvo S80 Summum'], dtype=object)"
     },
     "execution_count": 60,
     "metadata": {},
     "output_type": "execute_result"
    }
   ],
   "source": [
    "pipe.steps[0][1].transformers[0][1].categories[0]"
   ],
   "metadata": {
    "collapsed": false,
    "pycharm": {
     "name": "#%%\n"
    }
   }
  },
  {
   "cell_type": "code",
   "execution_count": 61,
   "outputs": [
    {
     "data": {
      "text/plain": "array(['Audi', 'BMW', 'Chevrolet', 'Datsun', 'Fiat', 'Force', 'Ford',\n       'Hindustan', 'Honda', 'Hyundai', 'I', 'Jaguar', 'Jeep', 'Land',\n       'Mahindra', 'Maruti', 'Mercedes', 'Mini', 'Mitsubishi', 'Nissan',\n       'Renault', 'Skoda', 'Tata', 'Toyota', 'Volkswagen', 'Volvo'],\n      dtype=object)"
     },
     "execution_count": 61,
     "metadata": {},
     "output_type": "execute_result"
    }
   ],
   "source": [
    "pipe.steps[0][1].transformers[0][1].categories[1]"
   ],
   "metadata": {
    "collapsed": false,
    "pycharm": {
     "name": "#%%\n"
    }
   }
  },
  {
   "cell_type": "code",
   "execution_count": 62,
   "outputs": [
    {
     "data": {
      "text/plain": "array(['Diesel', 'LPG', 'Petrol'], dtype=object)"
     },
     "execution_count": 62,
     "metadata": {},
     "output_type": "execute_result"
    }
   ],
   "source": [
    "pipe.steps[0][1].transformers[0][1].categories[2]"
   ],
   "metadata": {
    "collapsed": false,
    "pycharm": {
     "name": "#%%\n"
    }
   }
  },
  {
   "cell_type": "code",
   "execution_count": 63,
   "outputs": [
    {
     "data": {
      "text/plain": "array([ 3.65172395e+05, -5.43895392e+04,  2.28333277e+05,  9.84751341e+04,\n       -1.53937774e+04,  7.85205475e+04,  2.30472395e+05, -1.04306189e+05,\n        6.22390052e+04,  1.07746276e+05,  0.00000000e+00,  4.89228450e+04,\n        4.92065447e+04,  7.90456434e+04, -2.92700668e+04, -1.09951433e+05,\n       -1.00869529e+05, -1.13795202e+05, -1.64174340e+04,  1.40748133e+04,\n        0.00000000e+00, -1.69416516e+04, -1.29966563e+04, -6.18316279e+03,\n       -1.30362528e+04, -1.91681209e+04, -2.41127150e+04, -1.52653172e+04,\n        2.50762104e+03,  6.35008412e+04, -4.91415819e+04, -7.71613893e+04,\n       -1.74043731e+05,  0.00000000e+00, -8.64467768e+04, -6.69392212e+04,\n       -5.28375519e+04, -1.15911446e+03, -1.22820580e+04,  7.66616128e+04,\n       -2.22327474e+04,  3.21576369e+04,  0.00000000e+00, -3.04838992e+04,\n       -8.70891116e+03, -5.42681395e+04, -1.49674574e+05, -3.54253892e+04,\n       -4.10526870e+04, -3.47636597e+04,  0.00000000e+00, -1.40096557e+04,\n        6.90919677e+04, -1.39300780e+04, -1.32064832e+05, -6.10825431e+04,\n       -9.16805057e+04, -4.17365232e+04, -2.02370740e+04, -8.48212267e+03,\n        1.21785174e+05,  1.68440974e+04,  3.98838855e+04,  6.90665855e+04,\n       -9.08863062e+04, -1.80949107e+04, -7.71985817e+02,  0.00000000e+00,\n       -1.63100213e+04, -5.71159388e+02, -2.70942117e+04, -1.05451150e+04,\n       -8.68139781e+03, -1.03470004e+04,  7.01140645e+04,  3.30307288e+05,\n        3.57447219e+04,  4.42058226e+04,  6.35578260e+04, -1.11467584e+05,\n       -1.02394534e+05, -1.33293439e+05, -7.95938975e+04, -2.44032411e+04,\n        1.08565844e+04, -8.84935973e+01, -1.18964987e+04, -4.22649199e+04,\n       -3.51381042e+04,  1.96743127e+04, -1.73684677e+04, -5.42897890e+04,\n       -6.21106366e+04, -5.51827066e+04,  0.00000000e+00,  1.29813340e+03,\n        1.26715628e+05, -5.95532256e+03, -6.91586309e+03, -2.47486359e+04,\n       -2.78829378e+04, -1.68196083e+04, -1.48608283e+04, -1.44889688e+04,\n       -2.01306040e+04,  1.87800702e+04, -2.46415971e+04, -6.20069109e+03,\n        4.44461407e+04, -9.00748227e+03, -2.96374891e+04,  1.10841705e+03,\n       -7.57026043e+04, -1.02755085e+05,  3.48263492e+05,  2.40696499e+05,\n        0.00000000e+00,  2.36889890e+05, -1.89085939e+05,  0.00000000e+00,\n       -3.09092512e+04, -1.46415743e+05, -6.63309751e+04, -7.03910103e+04,\n       -1.15269267e+05, -4.84285944e+04, -3.18889753e+04, -3.34582041e+04,\n       -9.99833768e+04,  1.25270009e+05, -3.19432161e+04,  0.00000000e+00,\n        9.85879795e+03,  1.87037380e+05, -3.00184790e+04, -2.65704033e+04,\n        7.36211379e+04,  0.00000000e+00, -5.66638488e+04, -2.42097093e+04,\n        5.58355657e+04,  2.02247113e+04,  1.78767721e+05,  1.82240294e+05,\n       -1.35290249e+04,  1.34945578e+05, -4.05386501e+04, -3.41613546e+04,\n       -4.48760725e+04,  8.66218528e+03,  0.00000000e+00, -1.30859969e+05,\n        5.24213052e+04, -2.80623712e+04,  1.18625497e+05, -2.84287345e+04,\n       -6.38898572e+04,  1.72717462e+05, -3.60411739e+04, -3.23096634e+04,\n        3.41286062e+04, -8.68375569e+04, -7.77660517e+04,  1.73045445e+04,\n        3.07370027e+04, -1.34555794e+04, -8.45604488e+04,  2.68478883e+03,\n        2.02809703e+03, -1.20765190e+05, -2.08028112e+04,  1.31937136e+05,\n        1.11158409e+05,  5.76070679e+04,  1.94601427e+05,  7.48382756e+05,\n       -7.76651085e+04,  4.59485669e+05, -4.59892508e+04, -4.70630136e+04,\n       -4.33689867e+04, -3.70074210e+04, -2.42910886e+04,  7.40943142e+04,\n        3.17860070e+03,  1.09804104e+04,  2.27993628e+04, -1.92607886e+04,\n        0.00000000e+00,  1.87787875e+04, -4.22048272e+04, -7.35575149e+04,\n       -1.11017366e+05, -4.80807872e+04,  1.10562554e+04, -7.58414782e+04,\n       -3.99823387e+04, -5.80126144e+04, -5.83620724e+04, -5.42611143e+04,\n       -3.92021124e+04, -3.48008600e+04,  2.66724126e+04, -9.02464874e+03,\n        0.00000000e+00,  5.95003684e+04,  1.84791415e+04,  9.47587824e+03,\n       -1.02563874e+05, -1.05077518e+05, -4.01326393e+04, -5.06636120e+04,\n        2.71783049e+04, -6.41034129e+04, -3.68289033e+04, -1.17563639e+04,\n       -1.98518229e+04,  1.44899852e+04, -4.96365973e+04, -3.08412587e+04,\n       -1.37937738e+04, -1.34056521e+04, -1.36626582e+04, -1.40366045e+04,\n        7.98246254e+03, -8.50377352e+03,  6.78915821e+03,  3.32883167e+04,\n        2.96890860e+04,  0.00000000e+00, -3.40131334e+04, -1.50677391e+04,\n       -3.33008082e+04,  1.73360396e+04, -3.01100672e+04, -3.79664525e+04,\n       -1.48100396e+05, -1.95073339e+04, -1.11534842e+05, -5.28754900e+04,\n       -1.00572259e+05, -2.25557596e+05,  8.40214471e+04,  4.40322255e+05,\n       -6.86363351e+04,  9.32529999e+04,  0.00000000e+00,  0.00000000e+00,\n        3.58574183e+04,  1.19326544e+04, -1.59462667e+05, -1.83795108e+04,\n       -2.30137105e+04, -1.12616315e+04, -4.14823361e+04, -4.19280798e+04,\n        2.94629088e+04, -6.99563601e+04,  1.96245151e+05,  8.26884243e+05,\n        3.47160315e+05, -3.97924266e+05, -3.00346702e+05, -1.53385998e+05,\n       -5.39966663e+04, -2.94082471e+05,  6.90919677e+04, -2.48268319e+05,\n       -2.96343660e+05, -1.02755085e+05,  5.88959990e+05,  0.00000000e+00,\n        2.36889890e+05, -1.66870900e+05, -2.84469919e+05,  4.95304040e+05,\n        7.48382756e+05,  3.81820560e+05, -1.23625446e+05, -3.03169345e+05,\n       -2.66973348e+05, -4.63141471e+05, -1.47154002e+05, -2.88231314e+05,\n        1.96245151e+05,  5.64523606e+04, -3.00980862e+04, -2.63542744e+04,\n        3.84531352e+04,  1.52401173e-01])"
     },
     "execution_count": 63,
     "metadata": {},
     "output_type": "execute_result"
    }
   ],
   "source": [
    "pipe.steps[1][1].coef_"
   ],
   "metadata": {
    "collapsed": false,
    "pycharm": {
     "name": "#%%\n"
    }
   }
  },
  {
   "cell_type": "code",
   "execution_count": 64,
   "outputs": [
    {
     "data": {
      "text/plain": "-76762500.02590522"
     },
     "execution_count": 64,
     "metadata": {},
     "output_type": "execute_result"
    }
   ],
   "source": [
    "pipe.steps[1][1].intercept_"
   ],
   "metadata": {
    "collapsed": false,
    "pycharm": {
     "name": "#%%\n"
    }
   }
  },
  {
   "cell_type": "code",
   "execution_count": 65,
   "outputs": [],
   "source": [
    "import pickle"
   ],
   "metadata": {
    "collapsed": false,
    "pycharm": {
     "name": "#%%\n"
    }
   }
  },
  {
   "cell_type": "code",
   "execution_count": 66,
   "outputs": [],
   "source": [
    "pickle.dump(pipe,open('LinearRegressionModel.pkl','wb'))"
   ],
   "metadata": {
    "collapsed": false,
    "pycharm": {
     "name": "#%%\n"
    }
   }
  }
 ],
 "metadata": {
  "kernelspec": {
   "display_name": "Python 3",
   "language": "python",
   "name": "python3"
  },
  "language_info": {
   "codemirror_mode": {
    "name": "ipython",
    "version": 2
   },
   "file_extension": ".py",
   "mimetype": "text/x-python",
   "name": "python",
   "nbconvert_exporter": "python",
   "pygments_lexer": "ipython2",
   "version": "2.7.6"
  }
 },
 "nbformat": 4,
 "nbformat_minor": 0
}